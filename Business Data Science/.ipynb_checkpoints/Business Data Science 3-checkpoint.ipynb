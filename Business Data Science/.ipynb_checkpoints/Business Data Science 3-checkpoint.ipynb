{
 "cells": [
  {
   "cell_type": "markdown",
   "metadata": {},
   "source": [
    "Wilshire Liu and Joseph Chin"
   ]
  },
  {
   "cell_type": "markdown",
   "metadata": {},
   "source": [
    "# Business Data Science 3"
   ]
  },
  {
   "cell_type": "code",
   "execution_count": 48,
   "metadata": {},
   "outputs": [],
   "source": [
    "import numpy as np\n",
    "import matplotlib.pyplot as plt\n",
    "from sklearn import datasets, linear_model\n",
    "import pandas as pd\n",
    "from pandas import DataFrame, Series\n",
    "from __future__ import division\n",
    "import seaborn as sns\n",
    "#from sklearn.cross_validation import train_test_split\n",
    "from sklearn.model_selection import train_test_split\n",
    "sns.set(style='ticks', palette='Set2')\n",
    "%matplotlib inline"
   ]
  },
  {
   "cell_type": "markdown",
   "metadata": {},
   "source": [
    "# Problem 1"
   ]
  },
  {
   "cell_type": "code",
   "execution_count": 54,
   "metadata": {},
   "outputs": [
    {
     "name": "stdout",
     "output_type": "stream",
     "text": [
      "[-12.78010203 -19.72323108   7.9191611   -2.45690067   6.8998664 ]\n",
      "\n",
      "[0.43358527 0.09743762 1.31161363 0.84633556 0.29284378]\n"
     ]
    }
   ],
   "source": [
    "# correlated columns\n",
    "# Suppose p = 5, n = 500 -- a good ratio\n",
    "p = 5; n = 500\n",
    "X = np.random.randn(n,p)\n",
    "c = np.dot(X[:,0:p-1],[2,3,-1,0.5]) + np.random.randn(1,n)/1000\n",
    "# c is a column that is approximately a linear combination of\n",
    "# columns 1, 2, 3 and 4. We set the 5th column of X equal to c\n",
    "X[:,p-1] = c\n",
    "beta = np.array([1,1,1,1,0])\n",
    "sigma = 0.3333\n",
    "y = np.dot(X,beta) + sigma*np.random.randn(n)\n",
    "# Now let's also generate a test data set\n",
    "n1 = 500 # number of testing points\n",
    "X_test = np.random.randn(n1,p)\n",
    "c_test = np.dot(X_test[:,0:p-1],[2,3,0,0.5]) + np.random.randn(1,n1)/1000;\n",
    "X_test[:,p-1] = c_test\n",
    "y_test = np.dot(X_test,beta) + sigma*np.random.randn(n1)\n",
    "# And remember that the formula for beta is\n",
    "# beta_hat = (X'X)^-1 X'y\n",
    "# and if we plug in: y = X beta* + Noise \n",
    "# (where beta* is the true solution), we get\n",
    "# beta_hat = beta* + (X'X)^-1 X' Noise\n",
    "#\n",
    "# Multiplying the noise by (X'X)^-1 has the potential to blow up the noise\n",
    "# and this is exactly what happens.\n",
    "Z = np.dot(X.T,X)\n",
    "\n",
    "beta_hat = np.dot(np.dot(np.linalg.inv(Z),X.T),y.T)\n",
    "print(beta_hat)\n",
    "\n",
    "mu = .15\n",
    "beta_hat_R = np.dot(np.dot(np.linalg.inv(Z + mu*np.eye(p)),X.T),y.T)\n",
    "print('\\n' + str(beta_hat_R))"
   ]
  },
  {
   "cell_type": "code",
   "execution_count": 55,
   "metadata": {},
   "outputs": [
    {
     "name": "stdout",
     "output_type": "stream",
     "text": [
      "The test error of the zero-variance solution is 48.00339698361333\n"
     ]
    }
   ],
   "source": [
    "# Error of the zero-variance solution\n",
    "zero_variance_test_error = np.linalg.norm(np.dot(X_test,[0,0,0,0,0]) - y_test)\n",
    "print(\"The test error of the zero-variance solution is \" + str(zero_variance_test_error))"
   ]
  },
  {
   "cell_type": "code",
   "execution_count": 56,
   "metadata": {},
   "outputs": [
    {
     "data": {
      "text/plain": [
       "157.0227066055733"
      ]
     },
     "execution_count": 56,
     "metadata": {},
     "output_type": "execute_result"
    }
   ],
   "source": [
    "# Now let's compute the test error of OLS.\n",
    "# You can see that it's not that good (it's big).\n",
    "np.linalg.norm(np.dot(X_test,beta_hat) - y_test)"
   ]
  },
  {
   "cell_type": "code",
   "execution_count": 57,
   "metadata": {},
   "outputs": [
    {
     "data": {
      "text/plain": [
       "7.638286169469813"
      ]
     },
     "execution_count": 57,
     "metadata": {},
     "output_type": "execute_result"
    }
   ],
   "source": [
    "# For comparison, the true error for the optimal beta is:\n",
    "np.linalg.norm(np.dot(X_test,beta) - y_test)"
   ]
  },
  {
   "cell_type": "code",
   "execution_count": 58,
   "metadata": {},
   "outputs": [
    {
     "name": "stdout",
     "output_type": "stream",
     "text": [
      "0.9361523788215972\n",
      "0.904191222326564\n",
      "1.0319386829895163\n",
      "0.9840351243366418\n",
      "0.03192192207842053\n",
      "The averages look similar to the beta* of [1, 1, 1, 1, 0]\n"
     ]
    }
   ],
   "source": [
    "beta_hats = []\n",
    "\n",
    "for i in range(100000):\n",
    "    # correlated columns\n",
    "    # Suppose p = 5, n = 500 -- a good ratio\n",
    "    p = 5; n = 500\n",
    "    X = np.random.randn(n,p)\n",
    "    c = np.dot(X[:,0:p-1],[2,3,-1,0.5]) + np.random.randn(1,n)/1000\n",
    "    # c is a column that is approximately a linear combination of\n",
    "    # columns 1, 2, 3 and 4. We set the 5th column of X equal to c\n",
    "    X[:,p-1] = c\n",
    "    beta = np.array([1,1,1,1,0])\n",
    "    sigma = 0.3333\n",
    "    y = np.dot(X,beta) + sigma*np.random.randn(n)\n",
    "\n",
    "    # And remember that the formula for beta is\n",
    "    # beta_hat = (X'X)^-1 X'y\n",
    "    # and if we plug in: y = X beta* + Noise \n",
    "    # (where beta* is the true solution), we get\n",
    "    # beta_hat = beta* + (X'X)^-1 X' Noise\n",
    "    #\n",
    "    # Multiplying the noise by (X'X)^-1 has the potential to blow up the noise\n",
    "    # and this is exactly what happens.\n",
    "    Z = np.dot(X.T,X)\n",
    "    beta_hat = np.dot(np.dot(np.linalg.inv(Z),X.T),y.T)\n",
    "    beta_hats.append(beta_hat)\n",
    "    \n",
    "pd_beta_hats = pd.DataFrame(beta_hats)\n",
    "print(pd_beta_hats[0].mean())\n",
    "print(pd_beta_hats[1].mean())\n",
    "print(pd_beta_hats[2].mean())\n",
    "print(pd_beta_hats[3].mean())\n",
    "print(pd_beta_hats[4].mean())\n",
    "print('The averages look similar to the beta* of [1, 1, 1, 1, 0]')"
   ]
  },
  {
   "cell_type": "code",
   "execution_count": 64,
   "metadata": {},
   "outputs": [
    {
     "name": "stdout",
     "output_type": "stream",
     "text": [
      "               0           1          2          3          4\n",
      "0     -11.355181  -17.508327   7.177011  -2.079866   6.172944\n",
      "1     -32.304326  -48.953805  17.627803  -7.343288  16.650680\n",
      "2     -15.860002  -24.296576   9.428967  -3.203872   8.436805\n",
      "3      17.897581   26.373905  -7.444616   5.249326  -8.458421\n",
      "4      33.599836   49.890747 -15.299725   9.157567 -16.290679\n",
      "5      16.202226   23.824229  -6.575938   4.813001  -7.603842\n",
      "6      49.501034   73.766377 -23.250386  13.133425 -24.256823\n",
      "7       6.502124    9.251178  -1.747871   2.377360  -2.746799\n",
      "8     -50.341763  -76.034056  26.658037 -11.859788  25.685553\n",
      "9     -49.433586  -74.653460  26.225306 -11.591848  25.216320\n",
      "10    -10.040495  -15.600323   6.533458  -1.774275   5.530262\n",
      "11    -38.002284  -57.483304  20.494052  -8.738275  19.496746\n",
      "12    -14.666946  -22.500527   8.834463  -2.949443   7.833522\n",
      "13    -23.275909  -35.364969  13.095842  -5.066327  12.130561\n",
      "14    -38.753630  -58.564184  20.861398  -8.927561  19.861378\n",
      "15    -12.755659  -19.626495   7.865861  -2.436304   6.878599\n",
      "16    -29.023855  -44.041389  16.036656  -6.506703  15.018841\n",
      "17    -18.270882  -27.877742  10.637446  -3.837108   9.634558\n",
      "18    -25.870514  -39.261275  14.405590  -5.694628  13.421409\n",
      "19      8.169103   11.726660  -2.582973   2.790271  -3.576520\n",
      "20      2.768007    3.674049   0.110493   1.453419  -0.897470\n",
      "21      3.937199    5.407348  -0.469732   1.745837  -1.476484\n",
      "22     46.792805   69.667402 -21.888042  12.447484 -22.892887\n",
      "23     15.865804   23.237312  -6.409514   4.727890  -7.422134\n",
      "24     49.640376   73.965314 -23.339275  13.151262 -24.326755\n",
      "25     23.378323   34.566025 -10.192332   6.598327 -11.194380\n",
      "26     -0.826153   -1.706072   1.929595   0.559329   0.907164\n",
      "27      1.824283    2.223816   0.577631   1.196734  -0.404099\n",
      "28     30.601097   45.428858 -13.785742   8.401816 -14.800753\n",
      "29      4.102031    5.649667  -0.561653   1.775195  -1.553778\n",
      "...          ...         ...        ...        ...        ...\n",
      "99970  39.108610   58.144966 -18.024713  10.524629 -19.045731\n",
      "99971  22.505805   33.255182  -9.723412   6.370415 -10.747739\n",
      "99972 -33.152235  -50.249364  18.089595  -7.530957  17.080568\n",
      "99973  94.313743  140.956992 -45.658371  24.344815 -46.658025\n",
      "99974  25.107940   37.183869 -11.041264   7.002967 -12.056780\n",
      "99975  14.027366   20.552670  -5.520962   4.252390  -6.517509\n",
      "99976 -28.363575  -43.088232  15.695984  -6.352665  14.695139\n",
      "99977 -34.549287  -52.337368  18.811921  -7.905840  17.781513\n",
      "99978 -20.072145  -30.604128  11.536429  -4.239565  10.533657\n",
      "99979  -4.849146   -7.824675   3.929700  -0.465483   2.934153\n",
      "99980  12.054417   17.554588  -4.502724   3.759880  -5.517369\n",
      "99981 -17.794303  -27.165369  10.375857  -3.704891   9.389117\n",
      "99982 -10.845675  -16.771278   6.922538  -1.958295   5.919476\n",
      "99983  -8.964145  -13.938450   6.007414  -1.514795   4.994311\n",
      "99984 -23.305289  -35.471351  13.156843  -5.083185  12.163868\n",
      "99985   4.745541    6.638169  -0.868210   1.921048  -1.875812\n",
      "99986   8.706711   12.555927  -2.873154   2.939058  -3.852943\n",
      "99987  -8.622395  -13.468721   5.818008  -1.393907   4.818416\n",
      "99988 -13.866166  -21.287191   8.427625  -2.715748   7.433133\n",
      "99989  28.605477   42.436226 -12.811085   7.909770 -13.811528\n",
      "99990 -22.551778  -34.345189  12.803409  -4.867173  11.786525\n",
      "99991  28.554968   42.361458 -12.788770   7.878278 -13.783062\n",
      "99992  36.351341   54.056653 -16.681080   9.844704 -17.682000\n",
      "99993 -46.432101  -70.110373  24.699239 -10.843861  23.709310\n",
      "99994  -6.866942  -10.778810   4.890210  -0.954361   3.927154\n",
      "99995  -0.966618   -1.939553   1.966196   0.517548   0.973393\n",
      "99996  16.638583   24.440556  -6.817585   4.917910  -7.816372\n",
      "99997 -33.157591  -50.205059  18.079777  -7.540147  17.070576\n",
      "99998  41.319714   61.452002 -19.172235  11.089966 -20.161099\n",
      "99999 -18.597583  -28.430364  10.817180  -3.919762   9.813408\n",
      "\n",
      "[100000 rows x 5 columns]\n",
      "0.9838690312791438\n",
      "0.9756131902944898\n",
      "1.0081317024756016\n",
      "0.9960203420804933\n",
      "0.008097374598860426\n",
      "The averages look similar to the beta* of [1, 1, 1, 1, 0]\n",
      "\n",
      "[ 1.16360949  1.24524449  0.91825036  1.04096027 -0.08177641]\n"
     ]
    }
   ],
   "source": [
    "beta_hats = []\n",
    "\n",
    "p = 5; n = 50000000; s = 500;\n",
    "X_all = np.random.randn(n,p)\n",
    "beta = np.array([1,1,1,1,0])\n",
    "sigma = 0.3333\n",
    "y_all = np.dot(X_all, beta) + sigma*np.random.randn(n)\n",
    "\n",
    "for i in range(0,n,s):\n",
    "    # correlated columns\n",
    "    # Suppose p = 5, n = 500 -- a good ratio\n",
    "    X = X_all[i:i+s]\n",
    "    c = np.dot(X[:,0:p-1],[2,3,-1,0.5]) + np.random.randn(1,500)/1000\n",
    "    # c is a column that is approximately a linear combination of\n",
    "    # columns 1, 2, 3 and 4. We set the 5th column of X equal to c\n",
    "    X[:,p-1] = c\n",
    "    y = y_all[i:i+s]\n",
    "    # And remember that the formula for beta is\n",
    "    # beta_hat = (X'X)^-1 X'y\n",
    "    # and if we plug in: y = X beta* + Noise \n",
    "    # (where beta* is the true solution), we get\n",
    "    # beta_hat = beta* + (X'X)^-1 X' Noise\n",
    "    #\n",
    "    # Multiplying the noise by (X'X)^-1 has the potential to blow up the noise\n",
    "    # and this is exactly what happens.\n",
    "    Z = np.dot(X.T,X)\n",
    "    beta_hat = np.dot(np.dot(np.linalg.inv(Z),X.T),y.T)\n",
    "    beta_hats.append(beta_hat)\n",
    "\n",
    "pd_beta_hats = pd.DataFrame(beta_hats)\n",
    "print(pd_beta_hats)\n",
    "print(pd_beta_hats[0].mean())\n",
    "print(pd_beta_hats[1].mean())\n",
    "print(pd_beta_hats[2].mean())\n",
    "print(pd_beta_hats[3].mean())\n",
    "print(pd_beta_hats[4].mean())\n",
    "print('The averages look similar to the beta* of [1, 1, 1, 1, 0]')\n",
    "print()\n",
    "c_all = np.dot(X_all[:,0:p-1],[2,3,-1,0.5]) + np.random.randn(1,n)/1000\n",
    "X_all[:,p-1] = c_all\n",
    "Z_all = np.dot(X_all.T,X_all)\n",
    "beta_hat_all = np.dot(np.dot(np.linalg.inv(Z_all),X_all.T),y_all.T)\n",
    "print(beta_hat_all)"
   ]
  },
  {
   "cell_type": "markdown",
   "metadata": {},
   "source": [
    "The two approaches produce similar results, but the approach where we find beta-hat from averaging all of the beta-hats computed from the multiple batches of data is slightly better than the other approach of computing beta-hat from the entire dataset. We think this is because we are sort of taking an average of an average, but in this case each \"average\" is a computed beta-hat from 500 data points; and 500 data points is enough to get a decent estimate of beta, so by taking an average of 100,000 of these estimated betas, then we should get a result that is pretty close to the true beta.\n",
    "\n",
    "Another explanation could be that dividing the entire dataset into 100,000 batches of 500 points of datasets could minimize the effect of the noise.\n"
   ]
  },
  {
   "cell_type": "markdown",
   "metadata": {},
   "source": [
    "# Problem 2"
   ]
  },
  {
   "cell_type": "code",
   "execution_count": 87,
   "metadata": {},
   "outputs": [],
   "source": [
    "import pandas as pd\n",
    "import numpy as np\n",
    "import seaborn as sns\n",
    "import matplotlib\n",
    "\n",
    "import matplotlib.pyplot as plt\n",
    "from scipy.stats import skew\n",
    "from scipy.stats.stats import pearsonr\n",
    "\n",
    "\n",
    "%config InlineBackend.figure_format = 'retina' #set 'png' here when working on notebook\n",
    "%matplotlib inline"
   ]
  },
  {
   "cell_type": "code",
   "execution_count": 88,
   "metadata": {},
   "outputs": [],
   "source": [
    "train = pd.read_csv(\"train.csv\", index_col='Id')\n",
    "test = pd.read_csv(\"test.csv\", index_col=\"Id\")"
   ]
  },
  {
   "cell_type": "code",
   "execution_count": 89,
   "metadata": {},
   "outputs": [
    {
     "data": {
      "text/html": [
       "<div>\n",
       "<style scoped>\n",
       "    .dataframe tbody tr th:only-of-type {\n",
       "        vertical-align: middle;\n",
       "    }\n",
       "\n",
       "    .dataframe tbody tr th {\n",
       "        vertical-align: top;\n",
       "    }\n",
       "\n",
       "    .dataframe thead th {\n",
       "        text-align: right;\n",
       "    }\n",
       "</style>\n",
       "<table border=\"1\" class=\"dataframe\">\n",
       "  <thead>\n",
       "    <tr style=\"text-align: right;\">\n",
       "      <th></th>\n",
       "      <th>MSSubClass</th>\n",
       "      <th>MSZoning</th>\n",
       "      <th>LotFrontage</th>\n",
       "      <th>LotArea</th>\n",
       "      <th>Street</th>\n",
       "      <th>Alley</th>\n",
       "      <th>LotShape</th>\n",
       "      <th>LandContour</th>\n",
       "      <th>Utilities</th>\n",
       "      <th>LotConfig</th>\n",
       "      <th>...</th>\n",
       "      <th>PoolArea</th>\n",
       "      <th>PoolQC</th>\n",
       "      <th>Fence</th>\n",
       "      <th>MiscFeature</th>\n",
       "      <th>MiscVal</th>\n",
       "      <th>MoSold</th>\n",
       "      <th>YrSold</th>\n",
       "      <th>SaleType</th>\n",
       "      <th>SaleCondition</th>\n",
       "      <th>SalePrice</th>\n",
       "    </tr>\n",
       "    <tr>\n",
       "      <th>Id</th>\n",
       "      <th></th>\n",
       "      <th></th>\n",
       "      <th></th>\n",
       "      <th></th>\n",
       "      <th></th>\n",
       "      <th></th>\n",
       "      <th></th>\n",
       "      <th></th>\n",
       "      <th></th>\n",
       "      <th></th>\n",
       "      <th></th>\n",
       "      <th></th>\n",
       "      <th></th>\n",
       "      <th></th>\n",
       "      <th></th>\n",
       "      <th></th>\n",
       "      <th></th>\n",
       "      <th></th>\n",
       "      <th></th>\n",
       "      <th></th>\n",
       "      <th></th>\n",
       "    </tr>\n",
       "  </thead>\n",
       "  <tbody>\n",
       "    <tr>\n",
       "      <th>1</th>\n",
       "      <td>60</td>\n",
       "      <td>RL</td>\n",
       "      <td>65.0</td>\n",
       "      <td>8450</td>\n",
       "      <td>Pave</td>\n",
       "      <td>NaN</td>\n",
       "      <td>Reg</td>\n",
       "      <td>Lvl</td>\n",
       "      <td>AllPub</td>\n",
       "      <td>Inside</td>\n",
       "      <td>...</td>\n",
       "      <td>0</td>\n",
       "      <td>NaN</td>\n",
       "      <td>NaN</td>\n",
       "      <td>NaN</td>\n",
       "      <td>0</td>\n",
       "      <td>2</td>\n",
       "      <td>2008</td>\n",
       "      <td>WD</td>\n",
       "      <td>Normal</td>\n",
       "      <td>208500</td>\n",
       "    </tr>\n",
       "    <tr>\n",
       "      <th>2</th>\n",
       "      <td>20</td>\n",
       "      <td>RL</td>\n",
       "      <td>80.0</td>\n",
       "      <td>9600</td>\n",
       "      <td>Pave</td>\n",
       "      <td>NaN</td>\n",
       "      <td>Reg</td>\n",
       "      <td>Lvl</td>\n",
       "      <td>AllPub</td>\n",
       "      <td>FR2</td>\n",
       "      <td>...</td>\n",
       "      <td>0</td>\n",
       "      <td>NaN</td>\n",
       "      <td>NaN</td>\n",
       "      <td>NaN</td>\n",
       "      <td>0</td>\n",
       "      <td>5</td>\n",
       "      <td>2007</td>\n",
       "      <td>WD</td>\n",
       "      <td>Normal</td>\n",
       "      <td>181500</td>\n",
       "    </tr>\n",
       "    <tr>\n",
       "      <th>3</th>\n",
       "      <td>60</td>\n",
       "      <td>RL</td>\n",
       "      <td>68.0</td>\n",
       "      <td>11250</td>\n",
       "      <td>Pave</td>\n",
       "      <td>NaN</td>\n",
       "      <td>IR1</td>\n",
       "      <td>Lvl</td>\n",
       "      <td>AllPub</td>\n",
       "      <td>Inside</td>\n",
       "      <td>...</td>\n",
       "      <td>0</td>\n",
       "      <td>NaN</td>\n",
       "      <td>NaN</td>\n",
       "      <td>NaN</td>\n",
       "      <td>0</td>\n",
       "      <td>9</td>\n",
       "      <td>2008</td>\n",
       "      <td>WD</td>\n",
       "      <td>Normal</td>\n",
       "      <td>223500</td>\n",
       "    </tr>\n",
       "    <tr>\n",
       "      <th>4</th>\n",
       "      <td>70</td>\n",
       "      <td>RL</td>\n",
       "      <td>60.0</td>\n",
       "      <td>9550</td>\n",
       "      <td>Pave</td>\n",
       "      <td>NaN</td>\n",
       "      <td>IR1</td>\n",
       "      <td>Lvl</td>\n",
       "      <td>AllPub</td>\n",
       "      <td>Corner</td>\n",
       "      <td>...</td>\n",
       "      <td>0</td>\n",
       "      <td>NaN</td>\n",
       "      <td>NaN</td>\n",
       "      <td>NaN</td>\n",
       "      <td>0</td>\n",
       "      <td>2</td>\n",
       "      <td>2006</td>\n",
       "      <td>WD</td>\n",
       "      <td>Abnorml</td>\n",
       "      <td>140000</td>\n",
       "    </tr>\n",
       "    <tr>\n",
       "      <th>5</th>\n",
       "      <td>60</td>\n",
       "      <td>RL</td>\n",
       "      <td>84.0</td>\n",
       "      <td>14260</td>\n",
       "      <td>Pave</td>\n",
       "      <td>NaN</td>\n",
       "      <td>IR1</td>\n",
       "      <td>Lvl</td>\n",
       "      <td>AllPub</td>\n",
       "      <td>FR2</td>\n",
       "      <td>...</td>\n",
       "      <td>0</td>\n",
       "      <td>NaN</td>\n",
       "      <td>NaN</td>\n",
       "      <td>NaN</td>\n",
       "      <td>0</td>\n",
       "      <td>12</td>\n",
       "      <td>2008</td>\n",
       "      <td>WD</td>\n",
       "      <td>Normal</td>\n",
       "      <td>250000</td>\n",
       "    </tr>\n",
       "  </tbody>\n",
       "</table>\n",
       "<p>5 rows × 80 columns</p>\n",
       "</div>"
      ],
      "text/plain": [
       "    MSSubClass MSZoning  LotFrontage  LotArea Street Alley LotShape  \\\n",
       "Id                                                                    \n",
       "1           60       RL         65.0     8450   Pave   NaN      Reg   \n",
       "2           20       RL         80.0     9600   Pave   NaN      Reg   \n",
       "3           60       RL         68.0    11250   Pave   NaN      IR1   \n",
       "4           70       RL         60.0     9550   Pave   NaN      IR1   \n",
       "5           60       RL         84.0    14260   Pave   NaN      IR1   \n",
       "\n",
       "   LandContour Utilities LotConfig    ...     PoolArea PoolQC Fence  \\\n",
       "Id                                    ...                             \n",
       "1          Lvl    AllPub    Inside    ...            0    NaN   NaN   \n",
       "2          Lvl    AllPub       FR2    ...            0    NaN   NaN   \n",
       "3          Lvl    AllPub    Inside    ...            0    NaN   NaN   \n",
       "4          Lvl    AllPub    Corner    ...            0    NaN   NaN   \n",
       "5          Lvl    AllPub       FR2    ...            0    NaN   NaN   \n",
       "\n",
       "   MiscFeature MiscVal MoSold  YrSold  SaleType  SaleCondition  SalePrice  \n",
       "Id                                                                         \n",
       "1          NaN       0      2    2008        WD         Normal     208500  \n",
       "2          NaN       0      5    2007        WD         Normal     181500  \n",
       "3          NaN       0      9    2008        WD         Normal     223500  \n",
       "4          NaN       0      2    2006        WD        Abnorml     140000  \n",
       "5          NaN       0     12    2008        WD         Normal     250000  \n",
       "\n",
       "[5 rows x 80 columns]"
      ]
     },
     "execution_count": 89,
     "metadata": {},
     "output_type": "execute_result"
    }
   ],
   "source": [
    "train.head()"
   ]
  },
  {
   "cell_type": "code",
   "execution_count": 90,
   "metadata": {},
   "outputs": [],
   "source": [
    "all_data = pd.concat((train.loc[:,'MSSubClass':'SaleCondition'],\n",
    "                      test.loc[:,'MSSubClass':'SaleCondition']))"
   ]
  },
  {
   "cell_type": "code",
   "execution_count": 91,
   "metadata": {},
   "outputs": [
    {
     "data": {
      "text/plain": [
       "array([[<matplotlib.axes._subplots.AxesSubplot object at 0x1a1849f1d0>,\n",
       "        <matplotlib.axes._subplots.AxesSubplot object at 0x1a1872eba8>]],\n",
       "      dtype=object)"
      ]
     },
     "execution_count": 91,
     "metadata": {},
     "output_type": "execute_result"
    },
    {
     "data": {
      "image/png": "[encoded data removed]",
      "text/plain": [
       "<Figure size 864x432 with 2 Axes>"
      ]
     },
     "metadata": {
      "image/png": {
       "height": 378,
       "width": 713
      }
     },
     "output_type": "display_data"
    }
   ],
   "source": [
    "matplotlib.rcParams['figure.figsize'] = (12.0, 6.0)\n",
    "prices = pd.DataFrame({\"price\":train[\"SalePrice\"], \"log(price + 1)\":np.log1p(train[\"SalePrice\"])})\n",
    "prices.hist()"
   ]
  },
  {
   "cell_type": "code",
   "execution_count": 92,
   "metadata": {},
   "outputs": [],
   "source": [
    "#log transform the target:\n",
    "train[\"SalePrice\"] = np.log1p(train[\"SalePrice\"])\n",
    "\n",
    "#log transform skewed numeric features:\n",
    "numeric_feats = all_data.dtypes[all_data.dtypes != \"object\"].index\n",
    "#print(numeric_feats)\n",
    "\n",
    "skewed_feats = train[numeric_feats].apply(lambda x: skew(x.dropna())) #compute skewness\n",
    "#print(skewed_feats)\n",
    "skewed_feats = skewed_feats[skewed_feats > 0.75]\n",
    "skewed_feats = skewed_feats.index\n",
    "\n",
    "all_data[skewed_feats] = np.log1p(all_data[skewed_feats])\n",
    "#all_data"
   ]
  },
  {
   "cell_type": "code",
   "execution_count": 93,
   "metadata": {},
   "outputs": [],
   "source": [
    "all_data = pd.get_dummies(all_data)\n",
    "#all_data"
   ]
  },
  {
   "cell_type": "code",
   "execution_count": 94,
   "metadata": {},
   "outputs": [],
   "source": [
    "#filling NA's with the mean of the column:\n",
    "all_data = all_data.fillna(all_data.mean())"
   ]
  },
  {
   "cell_type": "code",
   "execution_count": 95,
   "metadata": {},
   "outputs": [],
   "source": [
    "#creating matrices for sklearn:\n",
    "X_train = all_data[:train.shape[0]]\n",
    "X_test = all_data[train.shape[0]:]\n",
    "y = train.SalePrice"
   ]
  },
  {
   "cell_type": "code",
   "execution_count": 96,
   "metadata": {},
   "outputs": [],
   "source": [
    "from sklearn.linear_model import Ridge, RidgeCV, ElasticNet, Lasso, LassoCV, LassoLarsCV\n",
    "from sklearn.model_selection import cross_val_score\n",
    "\n",
    "def rmse_cv(model):\n",
    "    rmse= np.sqrt(-cross_val_score(model, X_train, y, scoring=\"neg_mean_squared_error\", cv = 5))\n",
    "    return(rmse)"
   ]
  },
  {
   "cell_type": "code",
   "execution_count": 97,
   "metadata": {},
   "outputs": [],
   "source": [
    "model_ridge = Ridge(alpha=0.1)\n",
    "model_ridge.fit(X_train, y)\n",
    "y_test_pred = pd.DataFrame({'Id':range(1461,2920), 'SalePrice':np.expm1(model_ridge.predict(X_test))}).set_index('Id')\n",
    "y_test_pred.to_csv('ridge_submission.csv')"
   ]
  },
  {
   "cell_type": "markdown",
   "metadata": {},
   "source": [
    "Submitted ridge_submission.csv to Kaggle and got a score of 0.13029"
   ]
  },
  {
   "cell_type": "markdown",
   "metadata": {},
   "source": [
    "# Ridge - Alpha Optimization using CV"
   ]
  },
  {
   "cell_type": "code",
   "execution_count": 103,
   "metadata": {},
   "outputs": [
    {
     "data": {
      "text/plain": [
       "Text(0, 0.5, 'rmse')"
      ]
     },
     "execution_count": 103,
     "metadata": {},
     "output_type": "execute_result"
    },
    {
     "data": {
      "image/png": "[encoded data removed]",
      "text/plain": [
       "<Figure size 864x432 with 1 Axes>"
      ]
     },
     "metadata": {
      "image/png": {
       "height": 392,
       "width": 736
      }
     },
     "output_type": "display_data"
    }
   ],
   "source": [
    "alphas = [0.05, 0.1, 0.3, 1, 3, 5, 10, 15, 30, 50, 75]\n",
    "cv_ridge = [rmse_cv(Ridge(alpha = alpha)).mean() \n",
    "            for alpha in alphas]\n",
    "\n",
    "cv_ridge = pd.Series(cv_ridge, index = alphas)\n",
    "cv_ridge.plot(title = \"Ridge Alpha vs RMSE\")\n",
    "plt.xlabel(\"alpha\")\n",
    "plt.ylabel(\"rmse\")"
   ]
  },
  {
   "cell_type": "code",
   "execution_count": 99,
   "metadata": {},
   "outputs": [
    {
     "data": {
      "text/plain": [
       "0.05     0.138936\n",
       "0.10     0.137775\n",
       "0.30     0.135014\n",
       "1.00     0.131362\n",
       "3.00     0.128649\n",
       "5.00     0.127822\n",
       "10.00    0.127337\n",
       "15.00    0.127529\n",
       "30.00    0.128959\n",
       "50.00    0.130994\n",
       "75.00    0.133164\n",
       "dtype: float64"
      ]
     },
     "execution_count": 99,
     "metadata": {},
     "output_type": "execute_result"
    }
   ],
   "source": [
    "cv_ridge"
   ]
  },
  {
   "cell_type": "code",
   "execution_count": 100,
   "metadata": {},
   "outputs": [
    {
     "data": {
      "text/plain": [
       "0.12733734668670765"
      ]
     },
     "execution_count": 100,
     "metadata": {},
     "output_type": "execute_result"
    }
   ],
   "source": [
    "cv_ridge.min()"
   ]
  },
  {
   "cell_type": "code",
   "execution_count": 101,
   "metadata": {},
   "outputs": [],
   "source": [
    "ridge_10 = Ridge(alpha = 10).fit(X_train, y)\n",
    "#print(rmse_cv(ridge_10).mean())\n",
    "y_ridge_10_test_pred = ridge_10.predict(X_test)\n",
    "y_ridge_10_test_pred = pd.DataFrame({'Id':range(1461,2920), 'SalePrice':np.expm1(y_ridge_10_test_pred)}).set_index('Id')\n",
    "y_ridge_10_test_pred.to_csv('ridge_10_submission.csv')"
   ]
  },
  {
   "cell_type": "markdown",
   "metadata": {},
   "source": [
    "Submitted ridge_10_submission.csv to Kaggle and got a score of 0.12224"
   ]
  },
  {
   "cell_type": "markdown",
   "metadata": {},
   "source": [
    "# Lasso - Alpha Optimization using CV"
   ]
  },
  {
   "cell_type": "code",
   "execution_count": 104,
   "metadata": {},
   "outputs": [
    {
     "name": "stderr",
     "output_type": "stream",
     "text": [
      "/anaconda3/lib/python3.6/site-packages/sklearn/linear_model/coordinate_descent.py:491: ConvergenceWarning: Objective did not converge. You might want to increase the number of iterations. Fitting data with very small alpha may cause precision problems.\n",
      "  ConvergenceWarning)\n"
     ]
    },
    {
     "data": {
      "text/plain": [
       "Text(0, 0.5, 'rmse')"
      ]
     },
     "execution_count": 104,
     "metadata": {},
     "output_type": "execute_result"
    },
    {
     "data": {
      "image/png": "[encoded data removed]",
      "text/plain": [
       "<Figure size 864x432 with 1 Axes>"
      ]
     },
     "metadata": {
      "image/png": {
       "height": 392,
       "width": 736
      }
     },
     "output_type": "display_data"
    }
   ],
   "source": [
    "alphas = [0.0001, 0.0002, 0.0003, 0.0004, 0.0005, 0.0006, 0.0007, 0.0008, 0.0009, 0.0010]\n",
    "cv_lasso = [rmse_cv(Lasso(alpha = alpha)).mean() \n",
    "            for alpha in alphas]\n",
    "\n",
    "cv_lasso = pd.Series(cv_lasso, index = alphas)\n",
    "cv_lasso.plot(title = \"Lasso Alpha vs RMSE\")\n",
    "plt.xlabel(\"alpha\")\n",
    "plt.ylabel(\"rmse\")"
   ]
  },
  {
   "cell_type": "code",
   "execution_count": 105,
   "metadata": {},
   "outputs": [
    {
     "data": {
      "text/plain": [
       "0.0001    0.128740\n",
       "0.0002    0.125268\n",
       "0.0003    0.123706\n",
       "0.0004    0.122842\n",
       "0.0005    0.122567\n",
       "0.0006    0.122644\n",
       "0.0007    0.122848\n",
       "0.0008    0.123176\n",
       "0.0009    0.123636\n",
       "0.0010    0.124195\n",
       "dtype: float64"
      ]
     },
     "execution_count": 105,
     "metadata": {},
     "output_type": "execute_result"
    }
   ],
   "source": [
    "cv_lasso"
   ]
  },
  {
   "cell_type": "code",
   "execution_count": 106,
   "metadata": {},
   "outputs": [
    {
     "data": {
      "text/plain": [
       "0.12256735885048145"
      ]
     },
     "execution_count": 106,
     "metadata": {},
     "output_type": "execute_result"
    }
   ],
   "source": [
    "cv_lasso.min()"
   ]
  },
  {
   "cell_type": "code",
   "execution_count": 107,
   "metadata": {},
   "outputs": [
    {
     "name": "stderr",
     "output_type": "stream",
     "text": [
      "/anaconda3/lib/python3.6/site-packages/sklearn/linear_model/coordinate_descent.py:491: ConvergenceWarning: Objective did not converge. You might want to increase the number of iterations. Fitting data with very small alpha may cause precision problems.\n",
      "  ConvergenceWarning)\n"
     ]
    },
    {
     "data": {
      "text/html": [
       "<div>\n",
       "<style scoped>\n",
       "    .dataframe tbody tr th:only-of-type {\n",
       "        vertical-align: middle;\n",
       "    }\n",
       "\n",
       "    .dataframe tbody tr th {\n",
       "        vertical-align: top;\n",
       "    }\n",
       "\n",
       "    .dataframe thead th {\n",
       "        text-align: right;\n",
       "    }\n",
       "</style>\n",
       "<table border=\"1\" class=\"dataframe\">\n",
       "  <thead>\n",
       "    <tr style=\"text-align: right;\">\n",
       "      <th></th>\n",
       "      <th>0</th>\n",
       "    </tr>\n",
       "  </thead>\n",
       "  <tbody>\n",
       "    <tr>\n",
       "      <th>0.0001</th>\n",
       "      <td>193</td>\n",
       "    </tr>\n",
       "    <tr>\n",
       "      <th>0.0002</th>\n",
       "      <td>158</td>\n",
       "    </tr>\n",
       "    <tr>\n",
       "      <th>0.0003</th>\n",
       "      <td>135</td>\n",
       "    </tr>\n",
       "    <tr>\n",
       "      <th>0.0004</th>\n",
       "      <td>120</td>\n",
       "    </tr>\n",
       "    <tr>\n",
       "      <th>0.0005</th>\n",
       "      <td>111</td>\n",
       "    </tr>\n",
       "    <tr>\n",
       "      <th>0.0006</th>\n",
       "      <td>102</td>\n",
       "    </tr>\n",
       "    <tr>\n",
       "      <th>0.0007</th>\n",
       "      <td>93</td>\n",
       "    </tr>\n",
       "    <tr>\n",
       "      <th>0.0008</th>\n",
       "      <td>90</td>\n",
       "    </tr>\n",
       "    <tr>\n",
       "      <th>0.0009</th>\n",
       "      <td>84</td>\n",
       "    </tr>\n",
       "    <tr>\n",
       "      <th>0.0010</th>\n",
       "      <td>79</td>\n",
       "    </tr>\n",
       "  </tbody>\n",
       "</table>\n",
       "</div>"
      ],
      "text/plain": [
       "          0\n",
       "0.0001  193\n",
       "0.0002  158\n",
       "0.0003  135\n",
       "0.0004  120\n",
       "0.0005  111\n",
       "0.0006  102\n",
       "0.0007   93\n",
       "0.0008   90\n",
       "0.0009   84\n",
       "0.0010   79"
      ]
     },
     "execution_count": 107,
     "metadata": {},
     "output_type": "execute_result"
    }
   ],
   "source": [
    "norms = []\n",
    "for alpha in alphas:\n",
    "    lasso = Lasso(alpha = alpha)\n",
    "    lasso.fit(X_train, y)\n",
    "    coef = pd.Series(lasso.coef_, index = X_train.columns)\n",
    "    norms.append(sum(coef != 0))\n",
    "pd.DataFrame(norms, index = alphas)"
   ]
  },
  {
   "cell_type": "code",
   "execution_count": 108,
   "metadata": {},
   "outputs": [
    {
     "data": {
      "text/plain": [
       "Text(0, 0.5, 'norms')"
      ]
     },
     "execution_count": 108,
     "metadata": {},
     "output_type": "execute_result"
    },
    {
     "data": {
      "image/png": "[encoded data removed]",
      "text/plain": [
       "<Figure size 864x432 with 1 Axes>"
      ]
     },
     "metadata": {
      "image/png": {
       "height": 392,
       "width": 727
      }
     },
     "output_type": "display_data"
    }
   ],
   "source": [
    "alpha_norms = pd.Series(norms, index = alphas)\n",
    "alpha_norms.plot(title = 'Alpha vs Norms')\n",
    "plt.xlabel(\"alpha\")\n",
    "plt.ylabel(\"norms\")"
   ]
  },
  {
   "cell_type": "code",
   "execution_count": 109,
   "metadata": {},
   "outputs": [],
   "source": [
    "lasso_0005 = Lasso(alpha = 0.0005).fit(X_train, y)\n",
    "y_lasso_0005_test_pred = lasso_0005.predict(X_test)\n",
    "y_lasso_0005_test_pred = pd.DataFrame({'Id':range(1461,2920), 'SalePrice':np.expm1(y_lasso_0005_test_pred)}).set_index('Id')\n",
    "y_lasso_0005_test_pred.to_csv('lasso_0005_submission.csv')"
   ]
  },
  {
   "cell_type": "markdown",
   "metadata": {},
   "source": [
    "Submitted lasso_0005_submission.csv to Kaggle and got a score of 0.12096"
   ]
  },
  {
   "cell_type": "code",
   "execution_count": 110,
   "metadata": {},
   "outputs": [
    {
     "name": "stdout",
     "output_type": "stream",
     "text": [
      "0.12358678325941327\n",
      "0.121131233917254\n"
     ]
    },
    {
     "name": "stderr",
     "output_type": "stream",
     "text": [
      "/anaconda3/lib/python3.6/site-packages/sklearn/linear_model/coordinate_descent.py:491: ConvergenceWarning: Objective did not converge. You might want to increase the number of iterations. Fitting data with very small alpha may cause precision problems.\n",
      "  ConvergenceWarning)\n"
     ]
    }
   ],
   "source": [
    "y_ridge_10_pred = ridge_10.predict(X_train)\n",
    "y_lasso_0005_pred = lasso_0005.predict(X_train)\n",
    "X_train_stack = X_train.copy()\n",
    "X_train_stack['Ridge_10_Output'] = y_ridge_10_pred\n",
    "X_train_stack['Lasso_0005_Output'] = y_lasso_0005_pred\n",
    "ridge_10_stack = Ridge(alpha = 10).fit(X_train_stack, y)\n",
    "lasso_0005_stack = Lasso(alpha = 0.0005).fit(X_train_stack, y)\n",
    "\n",
    "rmse = np.sqrt(-cross_val_score(ridge_10_stack, X_train_stack, y, scoring=\"neg_mean_squared_error\", cv = 5))\n",
    "print(rmse.mean())\n",
    "\n",
    "y_ridge_10_stack_pred = ridge_10_stack.predict(X_train_stack)\n",
    "y_lasso_0005_stack_pred = lasso_0005_stack.predict(X_train_stack)\n",
    "X_train_stack2 = X_train_stack.copy()\n",
    "X_train_stack2['Ridge_10_stack_Output'] = y_ridge_10_stack_pred\n",
    "X_train_stack2['Lasso_0005_stack_Output'] = y_lasso_0005_stack_pred\n",
    "ridge_10_stack2 = Ridge(alpha = 10).fit(X_train_stack2, y)\n",
    "\n",
    "rmse = np.sqrt(-cross_val_score(ridge_10_stack2, X_train_stack2, y, scoring=\"neg_mean_squared_error\", cv = 5))\n",
    "print(rmse.mean())"
   ]
  },
  {
   "cell_type": "code",
   "execution_count": 111,
   "metadata": {},
   "outputs": [
    {
     "name": "stderr",
     "output_type": "stream",
     "text": [
      "/anaconda3/lib/python3.6/site-packages/sklearn/linear_model/coordinate_descent.py:491: ConvergenceWarning: Objective did not converge. You might want to increase the number of iterations. Fitting data with very small alpha may cause precision problems.\n",
      "  ConvergenceWarning)\n"
     ]
    }
   ],
   "source": [
    "y_ridge_10_test_pred = ridge_10.predict(X_test)\n",
    "y_lasso_0005_test_pred = lasso_0005.predict(X_test)\n",
    "X_test_stack = X_test.copy()\n",
    "X_test_stack['Ridge_10_Output'] = y_ridge_10_test_pred\n",
    "X_test_stack['Lasso_0005_Output'] = y_lasso_0005_test_pred\n",
    "ridge_10_stack = Ridge(alpha = 10).fit(X_train_stack, y)\n",
    "lasso_0005_stack = Lasso(alpha = 0.0005).fit(X_train_stack, y)\n",
    "\n",
    "y_ridge_10_stack_test_pred = ridge_10_stack.predict(X_test_stack)\n",
    "y_lasso_0005_stack_test_pred = lasso_0005_stack.predict(X_test_stack)\n",
    "X_test_stack2 = X_test_stack.copy()\n",
    "X_test_stack2['Ridge_10_stack_Output'] = y_ridge_10_stack_test_pred\n",
    "X_test_stack2['Lasso_0005_stack_Output'] = y_lasso_0005_stack_test_pred\n",
    "ridge_10_stack2 = Ridge(alpha = 10).fit(X_train_stack2, y)\n",
    "\n",
    "y_ridge_10_stack2_test_pred = ridge_10_stack2.predict(X_test_stack2)\n",
    "y_ridge_10_stack2_test_pred = pd.DataFrame({'Id':range(1461,2920), 'SalePrice':np.expm1(y_ridge_10_stack2_test_pred)}).set_index('Id')\n",
    "y_ridge_10_stack2_test_pred.to_csv('ridge_10_stack2_pred.csv')\n"
   ]
  },
  {
   "cell_type": "markdown",
   "metadata": {},
   "source": [
    "Submitted ridge_10_stack2_submission.csv to Kaggle and got a score of 0.12238... this accuracy is worse than using just lasso with alpha = 0.0005 on the original dataset, probably overfitted on the training dataset"
   ]
  },
  {
   "cell_type": "code",
   "execution_count": null,
   "metadata": {},
   "outputs": [],
   "source": []
  }
 ],
 "metadata": {
  "kernelspec": {
   "display_name": "Python 3",
   "language": "python",
   "name": "python3"
  },
  "language_info": {
   "codemirror_mode": {
    "name": "ipython",
    "version": 3
   },
   "file_extension": ".py",
   "mimetype": "text/x-python",
   "name": "python",
   "nbconvert_exporter": "python",
   "pygments_lexer": "ipython3",
   "version": "3.7.4"
  }
 },
 "nbformat": 4,
 "nbformat_minor": 2
}
