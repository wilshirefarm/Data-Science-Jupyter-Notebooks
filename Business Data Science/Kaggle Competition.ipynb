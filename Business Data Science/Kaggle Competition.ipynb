{
 "cells": [
  {
   "cell_type": "markdown",
   "metadata": {},
   "source": [
    "# Business Data Science Kaggle Competition"
   ]
  },
  {
   "cell_type": "markdown",
   "metadata": {},
   "source": [
    "## Wilshire Liu"
   ]
  },
  {
   "cell_type": "code",
   "execution_count": 28,
   "metadata": {},
   "outputs": [],
   "source": [
    "import numpy as np\n",
    "import pandas as pd\n",
    "from sklearn.linear_model import LogisticRegression\n",
    "from sklearn.metrics import roc_auc_score\n",
    "from sklearn.metrics import roc_curve\n",
    "import matplotlib.pyplot as plt\n",
    "from xgboost import XGBClassifier\n",
    "from sklearn.model_selection import train_test_split\n",
    "import collections\n",
    "import seaborn as sns\n",
    "from sklearn.model_selection import cross_val_score\n",
    "from sklearn.model_selection import GridSearchCV\n",
    "from sklearn.model_selection import RandomizedSearchCV\n",
    "from scipy.stats import skew\n",
    "import warnings\n",
    "\n",
    "warnings.simplefilter(\"ignore\")\n",
    "sns.set(style='ticks', palette='Set2')\n",
    "%matplotlib inline"
   ]
  },
  {
   "cell_type": "markdown",
   "metadata": {},
   "source": [
    "### I first tried a fitting the data to a basic logistic regression."
   ]
  },
  {
   "cell_type": "code",
   "execution_count": 2,
   "metadata": {},
   "outputs": [],
   "source": [
    "df = pd.read_csv('train_final.csv', index_col='Id')\n",
    "y = df['Y']\n",
    "X = df.drop('Y', axis=1)"
   ]
  },
  {
   "cell_type": "code",
   "execution_count": 3,
   "metadata": {},
   "outputs": [
    {
     "data": {
      "text/html": [
       "<div>\n",
       "<style scoped>\n",
       "    .dataframe tbody tr th:only-of-type {\n",
       "        vertical-align: middle;\n",
       "    }\n",
       "\n",
       "    .dataframe tbody tr th {\n",
       "        vertical-align: top;\n",
       "    }\n",
       "\n",
       "    .dataframe thead th {\n",
       "        text-align: right;\n",
       "    }\n",
       "</style>\n",
       "<table border=\"1\" class=\"dataframe\">\n",
       "  <thead>\n",
       "    <tr style=\"text-align: right;\">\n",
       "      <th></th>\n",
       "      <th>f1</th>\n",
       "      <th>f2</th>\n",
       "      <th>f3</th>\n",
       "      <th>f4</th>\n",
       "      <th>f5</th>\n",
       "      <th>f6</th>\n",
       "      <th>f7</th>\n",
       "      <th>f8</th>\n",
       "      <th>f9</th>\n",
       "      <th>f10</th>\n",
       "      <th>...</th>\n",
       "      <th>f15</th>\n",
       "      <th>f16</th>\n",
       "      <th>f17</th>\n",
       "      <th>f18</th>\n",
       "      <th>f19</th>\n",
       "      <th>f20</th>\n",
       "      <th>f21</th>\n",
       "      <th>f22</th>\n",
       "      <th>f23</th>\n",
       "      <th>f24</th>\n",
       "    </tr>\n",
       "    <tr>\n",
       "      <th>Id</th>\n",
       "      <th></th>\n",
       "      <th></th>\n",
       "      <th></th>\n",
       "      <th></th>\n",
       "      <th></th>\n",
       "      <th></th>\n",
       "      <th></th>\n",
       "      <th></th>\n",
       "      <th></th>\n",
       "      <th></th>\n",
       "      <th></th>\n",
       "      <th></th>\n",
       "      <th></th>\n",
       "      <th></th>\n",
       "      <th></th>\n",
       "      <th></th>\n",
       "      <th></th>\n",
       "      <th></th>\n",
       "      <th></th>\n",
       "      <th></th>\n",
       "      <th></th>\n",
       "    </tr>\n",
       "  </thead>\n",
       "  <tbody>\n",
       "    <tr>\n",
       "      <th>1</th>\n",
       "      <td>25884</td>\n",
       "      <td>1</td>\n",
       "      <td>33.63</td>\n",
       "      <td>118596</td>\n",
       "      <td>1</td>\n",
       "      <td>0</td>\n",
       "      <td>118595</td>\n",
       "      <td>125738</td>\n",
       "      <td>1</td>\n",
       "      <td>3</td>\n",
       "      <td>...</td>\n",
       "      <td>1945</td>\n",
       "      <td>118450</td>\n",
       "      <td>119184</td>\n",
       "      <td>1</td>\n",
       "      <td>121372</td>\n",
       "      <td>1</td>\n",
       "      <td>1</td>\n",
       "      <td>1</td>\n",
       "      <td>2</td>\n",
       "      <td>1</td>\n",
       "    </tr>\n",
       "    <tr>\n",
       "      <th>2</th>\n",
       "      <td>34346</td>\n",
       "      <td>1</td>\n",
       "      <td>10.62</td>\n",
       "      <td>118041</td>\n",
       "      <td>1</td>\n",
       "      <td>0</td>\n",
       "      <td>117902</td>\n",
       "      <td>130913</td>\n",
       "      <td>1</td>\n",
       "      <td>1</td>\n",
       "      <td>...</td>\n",
       "      <td>15385</td>\n",
       "      <td>117945</td>\n",
       "      <td>292795</td>\n",
       "      <td>1</td>\n",
       "      <td>259173</td>\n",
       "      <td>1</td>\n",
       "      <td>1</td>\n",
       "      <td>1</td>\n",
       "      <td>1</td>\n",
       "      <td>1</td>\n",
       "    </tr>\n",
       "    <tr>\n",
       "      <th>3</th>\n",
       "      <td>34923</td>\n",
       "      <td>1</td>\n",
       "      <td>1.77</td>\n",
       "      <td>118327</td>\n",
       "      <td>1</td>\n",
       "      <td>0</td>\n",
       "      <td>117961</td>\n",
       "      <td>124402</td>\n",
       "      <td>1</td>\n",
       "      <td>2</td>\n",
       "      <td>...</td>\n",
       "      <td>7547</td>\n",
       "      <td>118933</td>\n",
       "      <td>290919</td>\n",
       "      <td>1</td>\n",
       "      <td>118784</td>\n",
       "      <td>1</td>\n",
       "      <td>1</td>\n",
       "      <td>1</td>\n",
       "      <td>1</td>\n",
       "      <td>1</td>\n",
       "    </tr>\n",
       "    <tr>\n",
       "      <th>4</th>\n",
       "      <td>80926</td>\n",
       "      <td>1</td>\n",
       "      <td>30.09</td>\n",
       "      <td>118300</td>\n",
       "      <td>1</td>\n",
       "      <td>0</td>\n",
       "      <td>117961</td>\n",
       "      <td>301218</td>\n",
       "      <td>1</td>\n",
       "      <td>0</td>\n",
       "      <td>...</td>\n",
       "      <td>4933</td>\n",
       "      <td>118458</td>\n",
       "      <td>118331</td>\n",
       "      <td>1</td>\n",
       "      <td>307024</td>\n",
       "      <td>1</td>\n",
       "      <td>1</td>\n",
       "      <td>1</td>\n",
       "      <td>2</td>\n",
       "      <td>1</td>\n",
       "    </tr>\n",
       "    <tr>\n",
       "      <th>5</th>\n",
       "      <td>4674</td>\n",
       "      <td>1</td>\n",
       "      <td>1.77</td>\n",
       "      <td>119921</td>\n",
       "      <td>1</td>\n",
       "      <td>0</td>\n",
       "      <td>119920</td>\n",
       "      <td>302830</td>\n",
       "      <td>1</td>\n",
       "      <td>0</td>\n",
       "      <td>...</td>\n",
       "      <td>13836</td>\n",
       "      <td>142145</td>\n",
       "      <td>4673</td>\n",
       "      <td>1</td>\n",
       "      <td>128230</td>\n",
       "      <td>1</td>\n",
       "      <td>1</td>\n",
       "      <td>1</td>\n",
       "      <td>620</td>\n",
       "      <td>1</td>\n",
       "    </tr>\n",
       "  </tbody>\n",
       "</table>\n",
       "<p>5 rows × 24 columns</p>\n",
       "</div>"
      ],
      "text/plain": [
       "       f1  f2     f3      f4  f5  f6      f7      f8  f9  f10 ...     f15  \\\n",
       "Id                                                            ...           \n",
       "1   25884   1  33.63  118596   1   0  118595  125738   1    3 ...    1945   \n",
       "2   34346   1  10.62  118041   1   0  117902  130913   1    1 ...   15385   \n",
       "3   34923   1   1.77  118327   1   0  117961  124402   1    2 ...    7547   \n",
       "4   80926   1  30.09  118300   1   0  117961  301218   1    0 ...    4933   \n",
       "5    4674   1   1.77  119921   1   0  119920  302830   1    0 ...   13836   \n",
       "\n",
       "       f16     f17  f18     f19  f20  f21  f22  f23  f24  \n",
       "Id                                                        \n",
       "1   118450  119184    1  121372    1    1    1    2    1  \n",
       "2   117945  292795    1  259173    1    1    1    1    1  \n",
       "3   118933  290919    1  118784    1    1    1    1    1  \n",
       "4   118458  118331    1  307024    1    1    1    2    1  \n",
       "5   142145    4673    1  128230    1    1    1  620    1  \n",
       "\n",
       "[5 rows x 24 columns]"
      ]
     },
     "execution_count": 3,
     "metadata": {},
     "output_type": "execute_result"
    }
   ],
   "source": [
    "X.head()"
   ]
  },
  {
   "cell_type": "code",
   "execution_count": 4,
   "metadata": {},
   "outputs": [],
   "source": [
    "ones = 0\n",
    "for i in y:\n",
    "    if i == 1:\n",
    "        ones += 1\n",
    "\n",
    "scale_pos_weight_to_use = (y.count()-ones)/ones"
   ]
  },
  {
   "cell_type": "code",
   "execution_count": 5,
   "metadata": {},
   "outputs": [],
   "source": [
    "lr = LogisticRegression()\n",
    "lr.fit(X, y)\n",
    "y_pred = lr.predict(X)\n",
    "y_probas = lr.predict_proba(X)"
   ]
  },
  {
   "cell_type": "code",
   "execution_count": 6,
   "metadata": {},
   "outputs": [
    {
     "name": "stdout",
     "output_type": "stream",
     "text": [
      "Misclassified samples in test set: 948\n",
      "Accuracy: 0.94214\n"
     ]
    }
   ],
   "source": [
    "print('Misclassified samples in test set: %d' %(y != y_pred).sum())\n",
    "from sklearn.metrics import accuracy_score\n",
    "print('Accuracy: %.5f' % accuracy_score(y,y_pred))"
   ]
  },
  {
   "cell_type": "code",
   "execution_count": 7,
   "metadata": {},
   "outputs": [
    {
     "data": {
      "image/png": "[encoded data removed]",
      "text/plain": [
       "<Figure size 432x288 with 1 Axes>"
      ]
     },
     "metadata": {
      "needs_background": "light"
     },
     "output_type": "display_data"
    },
    {
     "data": {
      "text/plain": [
       "0.5325769970435431"
      ]
     },
     "execution_count": 7,
     "metadata": {},
     "output_type": "execute_result"
    }
   ],
   "source": [
    "fpr, tpr, thresholds = roc_curve(y, y_probas[:, 1])\n",
    "\n",
    "plt.plot([0,1],[0,1],'k--')\n",
    "plt.plot(fpr, tpr, label='NB')\n",
    "plt.xlabel('fpr')\n",
    "plt.ylabel('tpr')\n",
    "plt.title('ROC Curve')\n",
    "plt.show()\n",
    "\n",
    "roc_auc_score(y, y_probas[:, 1])"
   ]
  },
  {
   "cell_type": "markdown",
   "metadata": {},
   "source": [
    "### Accuracy was pretty good, but AUC was pretty bad meaning the model is really not that good. Close to 0.5 AUC means the model is basically just as good as guessing."
   ]
  },
  {
   "cell_type": "markdown",
   "metadata": {},
   "source": [
    "# Try train/test split"
   ]
  },
  {
   "cell_type": "markdown",
   "metadata": {},
   "source": [
    "### I then tried to implement a train/test split myself (I use CV later). I decided to do this because I could then have a train set and also a validation set to try to tune the hyperparameters on."
   ]
  },
  {
   "cell_type": "code",
   "execution_count": 8,
   "metadata": {},
   "outputs": [],
   "source": [
    "X_train, X_test, y_train, y_test = train_test_split(X, y, test_size=0.2, random_state=0)"
   ]
  },
  {
   "cell_type": "markdown",
   "metadata": {},
   "source": [
    "# Try XGBoost"
   ]
  },
  {
   "cell_type": "markdown",
   "metadata": {},
   "source": [
    "### I then realized that XGBoost is probably the best model to use."
   ]
  },
  {
   "cell_type": "markdown",
   "metadata": {},
   "source": [
    "# XGBoost tuning hyperparameters with validation set AUC"
   ]
  },
  {
   "cell_type": "markdown",
   "metadata": {},
   "source": [
    "### At this point, I didn't think of using GridSearchCV or RandomizedSearchCV, so I just manually implemented hyperparameter searching based on the validation set AUC score. Also, I didn't think to change the n_estimators parameter until later."
   ]
  },
  {
   "cell_type": "code",
   "execution_count": null,
   "metadata": {},
   "outputs": [
    {
     "name": "stdout",
     "output_type": "stream",
     "text": [
      "max_depth=1 min_child_weight=1 gamma=1 scale_pos_weight=0.06141885325558795 0.7903782818800209\n",
      "max_depth=1 min_child_weight=1 gamma=1 scale_pos_weight=0.1 0.7891578688171381\n",
      "max_depth=1 min_child_weight=1 gamma=1 scale_pos_weight=0.2 0.7902844039521069\n",
      "max_depth=1 min_child_weight=1 gamma=1 scale_pos_weight=0.3 0.7860306565299023\n",
      "max_depth=1 min_child_weight=1 gamma=1 scale_pos_weight=0.4 0.7855204838560743\n",
      "max_depth=1 min_child_weight=1 gamma=1 scale_pos_weight=0.5 0.7855974329773154\n",
      "max_depth=1 min_child_weight=1 gamma=1 scale_pos_weight=0.6 0.7850926467419743\n",
      "max_depth=1 min_child_weight=1 gamma=1 scale_pos_weight=0.7 0.7770414601865246\n",
      "max_depth=1 min_child_weight=1 gamma=1 scale_pos_weight=0.8 0.7771291821847395\n",
      "max_depth=1 min_child_weight=1 gamma=1 scale_pos_weight=0.9 0.776421250269322\n",
      "max_depth=1 min_child_weight=1 gamma=1 scale_pos_weight=1 0.7734664040136663\n"
     ]
    }
   ],
   "source": [
    "max_depth=[1,2,3,4,5,6,7,8,9,10]\n",
    "min_child_weight=[1,2,3,4,5,6,7,8,9,10]\n",
    "gamma=[1,2,3,4,5,6,7,8,9,10]\n",
    "scale_pos_weight=[scale_pos_weight_to_use,0.1,0.2,0.3,0.4,0.5,0.6,0.7,0.8,0.9,1]\n",
    "\n",
    "rocs = {}\n",
    "\n",
    "for i in max_depth:\n",
    "    for j in min_child_weight:\n",
    "        for k in gamma:\n",
    "            for s in scale_pos_weight:\n",
    "                xgb_model = XGBClassifier(max_depth=i,min_child_weight=j,gamma=k,scale_pos_weight=s)\n",
    "                xgb_model.fit(X_train, y_train)\n",
    "                y_probas = xgb_model.predict_proba(X_test)\n",
    "                key = 'max_depth=' + str(i) + ' ' + 'min_child_weight=' + str(j) + ' ' + 'gamma=' + str(k) + ' ' + 'scale_pos_weight=' + str(s)\n",
    "                rocs[key] = (roc_auc_score(y_test, y_probas[:, 1]))\n",
    "                print(key, rocs[key])\n",
    "    rocs"
   ]
  },
  {
   "cell_type": "markdown",
   "metadata": {},
   "source": [
    "### I stopped the searching early to preserve space on this report"
   ]
  },
  {
   "cell_type": "code",
   "execution_count": 24,
   "metadata": {},
   "outputs": [],
   "source": [
    "backup = pd.read_csv('backup.csv')\n",
    "sortedAucs = backup.sort_values(by=['auc'],ascending=False)\n",
    "sortedAucs.head(10)\n",
    "sortedAucs.to_csv('sortedaucs.csv')"
   ]
  },
  {
   "cell_type": "code",
   "execution_count": 9,
   "metadata": {},
   "outputs": [
    {
     "data": {
      "text/plain": [
       "XGBClassifier(base_score=0.5, booster='gbtree', colsample_bylevel=1,\n",
       "       colsample_bytree=1, gamma=8, learning_rate=0.1, max_delta_step=0,\n",
       "       max_depth=10, min_child_weight=1, missing=None, n_estimators=100,\n",
       "       n_jobs=1, nthread=None, objective='binary:logistic', random_state=0,\n",
       "       reg_alpha=0, reg_lambda=1, scale_pos_weight=0.6, seed=None,\n",
       "       silent=True, subsample=1)"
      ]
     },
     "execution_count": 9,
     "metadata": {},
     "output_type": "execute_result"
    }
   ],
   "source": [
    "xgb_model = XGBClassifier(max_depth=10,min_child_weight=1,gamma=8,scale_pos_weight=.6)\n",
    "xgb_model.fit(X_train, y_train)"
   ]
  },
  {
   "cell_type": "markdown",
   "metadata": {},
   "source": [
    "### This was the model that had the highest validation score based on my manual implemetation of hyperparameter searching."
   ]
  },
  {
   "cell_type": "code",
   "execution_count": 10,
   "metadata": {},
   "outputs": [],
   "source": [
    "y_pred = xgb_model.predict(X_train)\n",
    "y_probas = xgb_model.predict_proba(X_train)"
   ]
  },
  {
   "cell_type": "code",
   "execution_count": 11,
   "metadata": {},
   "outputs": [
    {
     "data": {
      "image/png": "[encoded data removed]",
      "text/plain": [
       "<Figure size 432x288 with 1 Axes>"
      ]
     },
     "metadata": {
      "needs_background": "light"
     },
     "output_type": "display_data"
    },
    {
     "data": {
      "text/plain": [
       "0.9502658627991987"
      ]
     },
     "execution_count": 11,
     "metadata": {},
     "output_type": "execute_result"
    }
   ],
   "source": [
    "fpr, tpr, thresholds = roc_curve(y_train, y_probas[:, 1])\n",
    "\n",
    "plt.plot([0,1],[0,1],'k--')\n",
    "plt.plot(fpr, tpr, label='NB')\n",
    "plt.xlabel('fpr')\n",
    "plt.ylabel('tpr')\n",
    "plt.title('ROC Curve')\n",
    "plt.show()\n",
    "\n",
    "roc_auc_score(y_train, y_probas[:, 1])"
   ]
  },
  {
   "cell_type": "code",
   "execution_count": 12,
   "metadata": {},
   "outputs": [],
   "source": [
    "y_pred = xgb_model.predict(X_test)\n",
    "y_probas = xgb_model.predict_proba(X_test)"
   ]
  },
  {
   "cell_type": "code",
   "execution_count": 13,
   "metadata": {},
   "outputs": [
    {
     "data": {
      "image/png": "[encoded data removed]",
      "text/plain": [
       "<Figure size 432x288 with 1 Axes>"
      ]
     },
     "metadata": {
      "needs_background": "light"
     },
     "output_type": "display_data"
    },
    {
     "data": {
      "text/plain": [
       "0.882928067961464"
      ]
     },
     "execution_count": 13,
     "metadata": {},
     "output_type": "execute_result"
    }
   ],
   "source": [
    "fpr, tpr, thresholds = roc_curve(y_test, y_probas[:, 1])\n",
    "\n",
    "plt.plot([0,1],[0,1],'k--')\n",
    "plt.plot(fpr, tpr, label='NB')\n",
    "plt.xlabel('fpr')\n",
    "plt.ylabel('tpr')\n",
    "plt.title('ROC Curve')\n",
    "plt.show()\n",
    "\n",
    "roc_auc_score(y_test, y_probas[:, 1])"
   ]
  },
  {
   "cell_type": "markdown",
   "metadata": {},
   "source": [
    "### Train AUC was pretty good, but validation AUC was worse, which means the model is overfitting. This model was giving about .86 AUC on Kaggle."
   ]
  },
  {
   "cell_type": "markdown",
   "metadata": {},
   "source": [
    "# Cross Validate"
   ]
  },
  {
   "cell_type": "markdown",
   "metadata": {},
   "source": [
    "### I then realized that I could just use CV or GridSearchCV to search for hyperparameters..."
   ]
  },
  {
   "cell_type": "code",
   "execution_count": 41,
   "metadata": {},
   "outputs": [
    {
     "data": {
      "text/plain": [
       "array([0.85470308, 0.85023613, 0.88345524, 0.85975751, 0.8883627 ])"
      ]
     },
     "execution_count": 41,
     "metadata": {},
     "output_type": "execute_result"
    }
   ],
   "source": [
    "xgb_model = XGBClassifier(max_depth=10,min_child_weight=1,gamma=1,scale_pos_weight=.6,subsample=0.5,n_estimators=1000)\n",
    "scores = cross_val_score(xgb_model, X, y, cv=5, scoring='roc_auc')\n",
    "scores"
   ]
  },
  {
   "cell_type": "markdown",
   "metadata": {},
   "source": [
    "### I increased n_estimators to 1000, which did give me a better score on Kaggle (around 0.87)"
   ]
  },
  {
   "cell_type": "code",
   "execution_count": 6,
   "metadata": {},
   "outputs": [
    {
     "data": {
      "text/plain": [
       "GridSearchCV(cv=5, error_score='raise-deprecating',\n",
       "       estimator=XGBClassifier(base_score=0.5, booster='gbtree', colsample_bylevel=1,\n",
       "       colsample_bytree=1, gamma=0, learning_rate=0.1, max_delta_step=0,\n",
       "       max_depth=3, min_child_weight=1, missing=None, n_estimators=100,\n",
       "       n_jobs=1, nthread=None, objective='binary:logistic', random_state=0,\n",
       "       reg_alpha=0, reg_lambda=1, scale_pos_weight=1, seed=None,\n",
       "       silent=True, subsample=1),\n",
       "       fit_params=None, iid='warn', n_jobs=None,\n",
       "       param_grid={'booster': ['dart'], 'max_depth': [25], 'scale_pos_weight': [0.8], 'gamma': [9], 'subsample': [0.5, 0.6], 'min_child_weight': [1, 2], 'n_estimators': [2000], 'max_delta_step': [3, 5]},\n",
       "       pre_dispatch='2*n_jobs', refit=True, return_train_score='warn',\n",
       "       scoring='roc_auc', verbose=0)"
      ]
     },
     "execution_count": 6,
     "metadata": {},
     "output_type": "execute_result"
    }
   ],
   "source": [
    "parameters = {'booster':['dart'],'max_depth':[25],'scale_pos_weight':[.8],'gamma':[9],'subsample':[0.5,0.6],'min_child_weight':[1,2],'n_estimators':[2000],'max_delta_step':[3,5]}\n",
    "grid = GridSearchCV(XGBClassifier(), param_grid=parameters, cv=5, scoring='roc_auc')\n",
    "grid.fit(X, y)"
   ]
  },
  {
   "cell_type": "code",
   "execution_count": 4,
   "metadata": {},
   "outputs": [
    {
     "name": "stdout",
     "output_type": "stream",
     "text": [
      "{'gamma': 9, 'max_delta_step': 3, 'max_depth': 25, 'min_child_weight': 2, 'n_estimators': 2000, 'scale_pos_weight': 0.8, 'subsample': 0.6}\n",
      "0.8680515841335036\n"
     ]
    }
   ],
   "source": [
    "print(grid.best_params_)\n",
    "print(grid.best_score_)\n",
    "#print(grid.cv_results_)"
   ]
  },
  {
   "cell_type": "code",
   "execution_count": null,
   "metadata": {},
   "outputs": [],
   "source": [
    "xgb_model = XGBClassifier(booster='dart',max_depth=25,min_child_weight=1,gamma=9,scale_pos_weight=.8,subsample=0.6,n_estimators=2000)\n",
    "xgb_model.fit(X, y)"
   ]
  },
  {
   "cell_type": "markdown",
   "metadata": {},
   "source": [
    "### I also learned that I should use the dart booster instead of gbtree because it helps with overfitting by dropping some of the trees. This increased my Kaggle score to up to almost .88... I also decided to try 2000 n_estimators and it did do better than 1000 n_estimators. I think this is because it's averaging over more estimators which should help with the overfitting."
   ]
  },
  {
   "cell_type": "code",
   "execution_count": 9,
   "metadata": {},
   "outputs": [
    {
     "data": {
      "text/plain": [
       "XGBClassifier(base_score=0.5, booster='dart', colsample_bylevel=1,\n",
       "       colsample_bytree=1, gamma=9, learning_rate=0.1, max_delta_step=0,\n",
       "       max_depth=24, min_child_weight=1, missing=None, n_estimators=1500,\n",
       "       n_jobs=1, nthread=None, objective='binary:logistic', random_state=0,\n",
       "       reg_alpha=0, reg_lambda=1, scale_pos_weight=0.8, seed=None,\n",
       "       silent=True, subsample=0.6)"
      ]
     },
     "execution_count": 9,
     "metadata": {},
     "output_type": "execute_result"
    }
   ],
   "source": [
    "xgb_model = XGBClassifier(booster='dart',max_depth=24,min_child_weight=1,gamma=9,scale_pos_weight=.8,subsample=0.6,n_estimators=1500)\n",
    "xgb_model.fit(X, y)"
   ]
  },
  {
   "cell_type": "code",
   "execution_count": 16,
   "metadata": {},
   "outputs": [
    {
     "data": {
      "image/png": "[encoded data removed]",
      "text/plain": [
       "<Figure size 432x288 with 1 Axes>"
      ]
     },
     "metadata": {
      "needs_background": "light"
     },
     "output_type": "display_data"
    },
    {
     "data": {
      "text/plain": [
       "0.9866825492503613"
      ]
     },
     "execution_count": 16,
     "metadata": {},
     "output_type": "execute_result"
    }
   ],
   "source": [
    "y_probas = xgb_model.predict_proba(X)\n",
    "\n",
    "fpr, tpr, thresholds = roc_curve(y, y_probas[:, 1])\n",
    "\n",
    "plt.plot([0,1],[0,1],'k--')\n",
    "plt.plot(fpr, tpr, label='NB')\n",
    "plt.xlabel('fpr')\n",
    "plt.ylabel('tpr')\n",
    "plt.title('ROC Curve')\n",
    "plt.show()\n",
    "\n",
    "roc_auc_score(y, y_probas[:, 1])"
   ]
  },
  {
   "cell_type": "code",
   "execution_count": 20,
   "metadata": {},
   "outputs": [],
   "source": [
    "test = pd.read_csv('test_final.csv', index_col='Id')"
   ]
  },
  {
   "cell_type": "code",
   "execution_count": 21,
   "metadata": {
    "scrolled": true
   },
   "outputs": [
    {
     "data": {
      "text/plain": [
       "array([0.8826229 , 0.85601693, 0.9982153 , ..., 0.99851483, 0.9627084 ,\n",
       "       0.8834329 ], dtype=float32)"
      ]
     },
     "execution_count": 21,
     "metadata": {},
     "output_type": "execute_result"
    }
   ],
   "source": [
    "y_probas = xgb_model.predict_proba(test)\n",
    "y_probas[:,1]"
   ]
  },
  {
   "cell_type": "code",
   "execution_count": 22,
   "metadata": {},
   "outputs": [],
   "source": [
    "submission = pd.DataFrame({'Id':test.index,'Y':y_probas[:,1]}).set_index('Id')"
   ]
  },
  {
   "cell_type": "code",
   "execution_count": 23,
   "metadata": {},
   "outputs": [],
   "source": [
    "submission.to_csv('submission.csv')"
   ]
  },
  {
   "cell_type": "markdown",
   "metadata": {},
   "source": [
    "### However, I tried 1,500 n_estimators because I thought maybe 2000 was a little too much, and it actually increased my Kaggle AUC by a tiny bit. This is the best model that I could fit (AUC of 0.88058 public score on Kaggle). The other parameters I set the model to were chosen from my manually implemented hyperparameter search and also trying many different GridSearchCVs. 1,500 n_estimators is probably close to the optimal point where variance is reduced (based on the other parameters I used)."
   ]
  },
  {
   "cell_type": "markdown",
   "metadata": {},
   "source": [
    "# Feature Selection"
   ]
  },
  {
   "cell_type": "markdown",
   "metadata": {},
   "source": [
    "# Combine train and test set, make dummies, then split back"
   ]
  },
  {
   "cell_type": "markdown",
   "metadata": {},
   "source": [
    "### I then tried to make dummy variables for the columns that seemed like they were categorical values."
   ]
  },
  {
   "cell_type": "code",
   "execution_count": 11,
   "metadata": {},
   "outputs": [],
   "source": [
    "train = pd.read_csv('train_final.csv', index_col='Id')\n",
    "test = pd.read_csv('test_final.csv', index_col='Id')\n",
    "y = train['Y']\n",
    "X = train.drop('Y', axis=1)"
   ]
  },
  {
   "cell_type": "code",
   "execution_count": 12,
   "metadata": {},
   "outputs": [
    {
     "data": {
      "text/html": [
       "<div>\n",
       "<style scoped>\n",
       "    .dataframe tbody tr th:only-of-type {\n",
       "        vertical-align: middle;\n",
       "    }\n",
       "\n",
       "    .dataframe tbody tr th {\n",
       "        vertical-align: top;\n",
       "    }\n",
       "\n",
       "    .dataframe thead th {\n",
       "        text-align: right;\n",
       "    }\n",
       "</style>\n",
       "<table border=\"1\" class=\"dataframe\">\n",
       "  <thead>\n",
       "    <tr style=\"text-align: right;\">\n",
       "      <th></th>\n",
       "      <th>f1</th>\n",
       "      <th>f2</th>\n",
       "      <th>f3</th>\n",
       "      <th>f4</th>\n",
       "      <th>f5</th>\n",
       "      <th>f6</th>\n",
       "      <th>f7</th>\n",
       "      <th>f8</th>\n",
       "      <th>f9</th>\n",
       "      <th>f10</th>\n",
       "      <th>...</th>\n",
       "      <th>f15</th>\n",
       "      <th>f16</th>\n",
       "      <th>f17</th>\n",
       "      <th>f18</th>\n",
       "      <th>f19</th>\n",
       "      <th>f20</th>\n",
       "      <th>f21</th>\n",
       "      <th>f22</th>\n",
       "      <th>f23</th>\n",
       "      <th>f24</th>\n",
       "    </tr>\n",
       "    <tr>\n",
       "      <th>Id</th>\n",
       "      <th></th>\n",
       "      <th></th>\n",
       "      <th></th>\n",
       "      <th></th>\n",
       "      <th></th>\n",
       "      <th></th>\n",
       "      <th></th>\n",
       "      <th></th>\n",
       "      <th></th>\n",
       "      <th></th>\n",
       "      <th></th>\n",
       "      <th></th>\n",
       "      <th></th>\n",
       "      <th></th>\n",
       "      <th></th>\n",
       "      <th></th>\n",
       "      <th></th>\n",
       "      <th></th>\n",
       "      <th></th>\n",
       "      <th></th>\n",
       "      <th></th>\n",
       "    </tr>\n",
       "  </thead>\n",
       "  <tbody>\n",
       "    <tr>\n",
       "      <th>1</th>\n",
       "      <td>25884</td>\n",
       "      <td>1</td>\n",
       "      <td>33.63</td>\n",
       "      <td>118596</td>\n",
       "      <td>1</td>\n",
       "      <td>0</td>\n",
       "      <td>118595</td>\n",
       "      <td>125738</td>\n",
       "      <td>1</td>\n",
       "      <td>3</td>\n",
       "      <td>...</td>\n",
       "      <td>1945</td>\n",
       "      <td>118450</td>\n",
       "      <td>119184</td>\n",
       "      <td>1</td>\n",
       "      <td>121372</td>\n",
       "      <td>1</td>\n",
       "      <td>1</td>\n",
       "      <td>1</td>\n",
       "      <td>2</td>\n",
       "      <td>1</td>\n",
       "    </tr>\n",
       "    <tr>\n",
       "      <th>2</th>\n",
       "      <td>34346</td>\n",
       "      <td>1</td>\n",
       "      <td>10.62</td>\n",
       "      <td>118041</td>\n",
       "      <td>1</td>\n",
       "      <td>0</td>\n",
       "      <td>117902</td>\n",
       "      <td>130913</td>\n",
       "      <td>1</td>\n",
       "      <td>1</td>\n",
       "      <td>...</td>\n",
       "      <td>15385</td>\n",
       "      <td>117945</td>\n",
       "      <td>292795</td>\n",
       "      <td>1</td>\n",
       "      <td>259173</td>\n",
       "      <td>1</td>\n",
       "      <td>1</td>\n",
       "      <td>1</td>\n",
       "      <td>1</td>\n",
       "      <td>1</td>\n",
       "    </tr>\n",
       "    <tr>\n",
       "      <th>3</th>\n",
       "      <td>34923</td>\n",
       "      <td>1</td>\n",
       "      <td>1.77</td>\n",
       "      <td>118327</td>\n",
       "      <td>1</td>\n",
       "      <td>0</td>\n",
       "      <td>117961</td>\n",
       "      <td>124402</td>\n",
       "      <td>1</td>\n",
       "      <td>2</td>\n",
       "      <td>...</td>\n",
       "      <td>7547</td>\n",
       "      <td>118933</td>\n",
       "      <td>290919</td>\n",
       "      <td>1</td>\n",
       "      <td>118784</td>\n",
       "      <td>1</td>\n",
       "      <td>1</td>\n",
       "      <td>1</td>\n",
       "      <td>1</td>\n",
       "      <td>1</td>\n",
       "    </tr>\n",
       "    <tr>\n",
       "      <th>4</th>\n",
       "      <td>80926</td>\n",
       "      <td>1</td>\n",
       "      <td>30.09</td>\n",
       "      <td>118300</td>\n",
       "      <td>1</td>\n",
       "      <td>0</td>\n",
       "      <td>117961</td>\n",
       "      <td>301218</td>\n",
       "      <td>1</td>\n",
       "      <td>0</td>\n",
       "      <td>...</td>\n",
       "      <td>4933</td>\n",
       "      <td>118458</td>\n",
       "      <td>118331</td>\n",
       "      <td>1</td>\n",
       "      <td>307024</td>\n",
       "      <td>1</td>\n",
       "      <td>1</td>\n",
       "      <td>1</td>\n",
       "      <td>2</td>\n",
       "      <td>1</td>\n",
       "    </tr>\n",
       "    <tr>\n",
       "      <th>5</th>\n",
       "      <td>4674</td>\n",
       "      <td>1</td>\n",
       "      <td>1.77</td>\n",
       "      <td>119921</td>\n",
       "      <td>1</td>\n",
       "      <td>0</td>\n",
       "      <td>119920</td>\n",
       "      <td>302830</td>\n",
       "      <td>1</td>\n",
       "      <td>0</td>\n",
       "      <td>...</td>\n",
       "      <td>13836</td>\n",
       "      <td>142145</td>\n",
       "      <td>4673</td>\n",
       "      <td>1</td>\n",
       "      <td>128230</td>\n",
       "      <td>1</td>\n",
       "      <td>1</td>\n",
       "      <td>1</td>\n",
       "      <td>620</td>\n",
       "      <td>1</td>\n",
       "    </tr>\n",
       "    <tr>\n",
       "      <th>6</th>\n",
       "      <td>31824</td>\n",
       "      <td>1</td>\n",
       "      <td>3.54</td>\n",
       "      <td>118300</td>\n",
       "      <td>1</td>\n",
       "      <td>0</td>\n",
       "      <td>117961</td>\n",
       "      <td>154949</td>\n",
       "      <td>1</td>\n",
       "      <td>3</td>\n",
       "      <td>...</td>\n",
       "      <td>3085</td>\n",
       "      <td>125821</td>\n",
       "      <td>118638</td>\n",
       "      <td>1</td>\n",
       "      <td>119849</td>\n",
       "      <td>1</td>\n",
       "      <td>1</td>\n",
       "      <td>1</td>\n",
       "      <td>2</td>\n",
       "      <td>1</td>\n",
       "    </tr>\n",
       "    <tr>\n",
       "      <th>7</th>\n",
       "      <td>25889</td>\n",
       "      <td>1</td>\n",
       "      <td>3.54</td>\n",
       "      <td>118225</td>\n",
       "      <td>1</td>\n",
       "      <td>0</td>\n",
       "      <td>117961</td>\n",
       "      <td>120324</td>\n",
       "      <td>1</td>\n",
       "      <td>1</td>\n",
       "      <td>...</td>\n",
       "      <td>3526</td>\n",
       "      <td>120323</td>\n",
       "      <td>119095</td>\n",
       "      <td>1</td>\n",
       "      <td>122849</td>\n",
       "      <td>1</td>\n",
       "      <td>1</td>\n",
       "      <td>1</td>\n",
       "      <td>1</td>\n",
       "      <td>1</td>\n",
       "    </tr>\n",
       "    <tr>\n",
       "      <th>8</th>\n",
       "      <td>80867</td>\n",
       "      <td>1</td>\n",
       "      <td>1.77</td>\n",
       "      <td>121006</td>\n",
       "      <td>1</td>\n",
       "      <td>0</td>\n",
       "      <td>121005</td>\n",
       "      <td>164523</td>\n",
       "      <td>1</td>\n",
       "      <td>10</td>\n",
       "      <td>...</td>\n",
       "      <td>1383</td>\n",
       "      <td>118575</td>\n",
       "      <td>121916</td>\n",
       "      <td>1</td>\n",
       "      <td>122129</td>\n",
       "      <td>1</td>\n",
       "      <td>1</td>\n",
       "      <td>1</td>\n",
       "      <td>1</td>\n",
       "      <td>1</td>\n",
       "    </tr>\n",
       "    <tr>\n",
       "      <th>9</th>\n",
       "      <td>17225</td>\n",
       "      <td>1</td>\n",
       "      <td>23.01</td>\n",
       "      <td>118386</td>\n",
       "      <td>1</td>\n",
       "      <td>0</td>\n",
       "      <td>117961</td>\n",
       "      <td>269406</td>\n",
       "      <td>1</td>\n",
       "      <td>0</td>\n",
       "      <td>...</td>\n",
       "      <td>5249</td>\n",
       "      <td>123144</td>\n",
       "      <td>118398</td>\n",
       "      <td>1</td>\n",
       "      <td>118396</td>\n",
       "      <td>1</td>\n",
       "      <td>1</td>\n",
       "      <td>1</td>\n",
       "      <td>2</td>\n",
       "      <td>1</td>\n",
       "    </tr>\n",
       "    <tr>\n",
       "      <th>10</th>\n",
       "      <td>45142</td>\n",
       "      <td>1</td>\n",
       "      <td>1.77</td>\n",
       "      <td>118052</td>\n",
       "      <td>1</td>\n",
       "      <td>0</td>\n",
       "      <td>117961</td>\n",
       "      <td>121809</td>\n",
       "      <td>1</td>\n",
       "      <td>0</td>\n",
       "      <td>...</td>\n",
       "      <td>15904</td>\n",
       "      <td>118053</td>\n",
       "      <td>118638</td>\n",
       "      <td>1</td>\n",
       "      <td>118636</td>\n",
       "      <td>1</td>\n",
       "      <td>1</td>\n",
       "      <td>1</td>\n",
       "      <td>9</td>\n",
       "      <td>1</td>\n",
       "    </tr>\n",
       "  </tbody>\n",
       "</table>\n",
       "<p>10 rows × 24 columns</p>\n",
       "</div>"
      ],
      "text/plain": [
       "       f1  f2     f3      f4  f5  f6      f7      f8  f9  f10 ...     f15  \\\n",
       "Id                                                            ...           \n",
       "1   25884   1  33.63  118596   1   0  118595  125738   1    3 ...    1945   \n",
       "2   34346   1  10.62  118041   1   0  117902  130913   1    1 ...   15385   \n",
       "3   34923   1   1.77  118327   1   0  117961  124402   1    2 ...    7547   \n",
       "4   80926   1  30.09  118300   1   0  117961  301218   1    0 ...    4933   \n",
       "5    4674   1   1.77  119921   1   0  119920  302830   1    0 ...   13836   \n",
       "6   31824   1   3.54  118300   1   0  117961  154949   1    3 ...    3085   \n",
       "7   25889   1   3.54  118225   1   0  117961  120324   1    1 ...    3526   \n",
       "8   80867   1   1.77  121006   1   0  121005  164523   1   10 ...    1383   \n",
       "9   17225   1  23.01  118386   1   0  117961  269406   1    0 ...    5249   \n",
       "10  45142   1   1.77  118052   1   0  117961  121809   1    0 ...   15904   \n",
       "\n",
       "       f16     f17  f18     f19  f20  f21  f22  f23  f24  \n",
       "Id                                                        \n",
       "1   118450  119184    1  121372    1    1    1    2    1  \n",
       "2   117945  292795    1  259173    1    1    1    1    1  \n",
       "3   118933  290919    1  118784    1    1    1    1    1  \n",
       "4   118458  118331    1  307024    1    1    1    2    1  \n",
       "5   142145    4673    1  128230    1    1    1  620    1  \n",
       "6   125821  118638    1  119849    1    1    1    2    1  \n",
       "7   120323  119095    1  122849    1    1    1    1    1  \n",
       "8   118575  121916    1  122129    1    1    1    1    1  \n",
       "9   123144  118398    1  118396    1    1    1    2    1  \n",
       "10  118053  118638    1  118636    1    1    1    9    1  \n",
       "\n",
       "[10 rows x 24 columns]"
      ]
     },
     "execution_count": 12,
     "metadata": {},
     "output_type": "execute_result"
    }
   ],
   "source": [
    "all_data = pd.concat([X, test])\n",
    "all_data.head(10)"
   ]
  },
  {
   "cell_type": "code",
   "execution_count": 27,
   "metadata": {},
   "outputs": [
    {
     "data": {
      "image/png": "[encoded data removed]",
      "text/plain": [
       "<Figure size 1800x1800 with 110 Axes>"
      ]
     },
     "metadata": {},
     "output_type": "display_data"
    }
   ],
   "source": [
    "sns.pairplot(df[['f2','f5', 'f6', 'f9', 'f11', 'f18', 'f20', 'f21', 'f22', 'f24']])\n",
    "sns.despine()"
   ]
  },
  {
   "cell_type": "markdown",
   "metadata": {},
   "source": [
    "### These were the columns that didn't have that many different values, so I chose to make dummy variables out of them. I decided to do this because I didn't want to create too many new columns, but at the same time, I wanted to make sure I found the the columns that are categorical variables (if they are in this case)."
   ]
  },
  {
   "cell_type": "code",
   "execution_count": 13,
   "metadata": {},
   "outputs": [
    {
     "data": {
      "text/plain": [
       "Index(['f1', 'f3', 'f4', 'f7', 'f8', 'f10', 'f12', 'f13', 'f14', 'f15', 'f16',\n",
       "       'f17', 'f19', 'f23', 'f2_1', 'f2_2', 'f2_3', 'f2_4', 'f2_5', 'f2_6',\n",
       "       'f2_7', 'f2_17', 'f5_1', 'f5_2', 'f5_3', 'f5_4', 'f5_5', 'f5_6', 'f5_7',\n",
       "       'f5_9', 'f5_12', 'f6_0', 'f6_1', 'f6_2', 'f6_3', 'f6_4', 'f6_5', 'f6_6',\n",
       "       'f6_8', 'f6_10', 'f6_24', 'f9_1', 'f9_2', 'f9_3', 'f9_4', 'f9_5',\n",
       "       'f9_6', 'f9_7', 'f9_8', 'f9_9', 'f9_10', 'f9_11', 'f11_1', 'f11_2',\n",
       "       'f11_3', 'f11_4', 'f11_5', 'f11_6', 'f11_8', 'f18_1', 'f18_2', 'f18_3',\n",
       "       'f18_4', 'f18_5', 'f18_6', 'f18_7', 'f18_11', 'f18_18', 'f20_1',\n",
       "       'f20_2', 'f20_3', 'f20_4', 'f20_5', 'f20_6', 'f20_7', 'f20_8', 'f21_1',\n",
       "       'f21_2', 'f21_3', 'f21_4', 'f21_5', 'f21_6', 'f21_7', 'f21_8', 'f21_12',\n",
       "       'f22_1', 'f22_2', 'f22_3', 'f22_4', 'f22_5', 'f22_6', 'f22_7', 'f24_1',\n",
       "       'f24_2', 'f24_3', 'f24_4', 'f24_5', 'f24_6', 'f24_8', 'f24_16'],\n",
       "      dtype='object')"
      ]
     },
     "execution_count": 13,
     "metadata": {},
     "output_type": "execute_result"
    }
   ],
   "source": [
    "# get_dummies\n",
    "all_data_dummies = pd.get_dummies(all_data, columns=['f2','f5', 'f6', 'f9', 'f11', 'f18', 'f20', 'f21', 'f22', 'f24'])\n",
    "all_data_dummies.columns"
   ]
  },
  {
   "cell_type": "code",
   "execution_count": 14,
   "metadata": {},
   "outputs": [],
   "source": [
    "# split back into train/test\n",
    "train_dummies = all_data_dummies.iloc[:16383]\n",
    "#train_dummies.head(10)\n",
    "test_dummies = all_data_dummies.iloc[16383:]\n",
    "#test_dummies.head(10)"
   ]
  },
  {
   "cell_type": "code",
   "execution_count": 11,
   "metadata": {},
   "outputs": [
    {
     "data": {
      "text/plain": [
       "XGBClassifier(base_score=0.5, booster='dart', colsample_bylevel=1,\n",
       "       colsample_bynode=1, colsample_bytree=1, gamma=9, learning_rate=0.1,\n",
       "       max_delta_step=3, max_depth=100, min_child_weight=2, missing=None,\n",
       "       n_estimators=2000, n_jobs=1, nthread=None,\n",
       "       objective='binary:logistic', random_state=0, reg_alpha=0,\n",
       "       reg_lambda=1, scale_pos_weight=0.8, seed=None, silent=None,\n",
       "       subsample=0.6, verbosity=1)"
      ]
     },
     "execution_count": 11,
     "metadata": {},
     "output_type": "execute_result"
    }
   ],
   "source": [
    "xgb_model = XGBClassifier(booster='dart',max_depth=100,min_child_weight=2,gamma=9,scale_pos_weight=.8,subsample=0.6,n_estimators=2000,max_delta_step=3)\n",
    "xgb_model.fit(train_dummies, y)"
   ]
  },
  {
   "cell_type": "markdown",
   "metadata": {},
   "source": [
    "### This model got an AUC of 0.86989 on Kaggle, which is worse than my best model where I didn't use any dummy variables. My assumption is that creating dummy variables overfits more because there are many more features that the tree has to find a split on. Each tree is more complex, and therefore, it can overfit to the training data more."
   ]
  },
  {
   "cell_type": "code",
   "execution_count": 28,
   "metadata": {},
   "outputs": [
    {
     "data": {
      "text/html": [
       "<div>\n",
       "<style scoped>\n",
       "    .dataframe tbody tr th:only-of-type {\n",
       "        vertical-align: middle;\n",
       "    }\n",
       "\n",
       "    .dataframe tbody tr th {\n",
       "        vertical-align: top;\n",
       "    }\n",
       "\n",
       "    .dataframe thead th {\n",
       "        text-align: right;\n",
       "    }\n",
       "</style>\n",
       "<table border=\"1\" class=\"dataframe\">\n",
       "  <thead>\n",
       "    <tr style=\"text-align: right;\">\n",
       "      <th></th>\n",
       "      <th>f1</th>\n",
       "      <th>f3</th>\n",
       "      <th>f4</th>\n",
       "      <th>f7</th>\n",
       "      <th>f8</th>\n",
       "      <th>f10</th>\n",
       "      <th>f12</th>\n",
       "      <th>f13</th>\n",
       "      <th>f14</th>\n",
       "      <th>f15</th>\n",
       "      <th>f16</th>\n",
       "      <th>f17</th>\n",
       "      <th>f19</th>\n",
       "      <th>f23</th>\n",
       "    </tr>\n",
       "    <tr>\n",
       "      <th>Id</th>\n",
       "      <th></th>\n",
       "      <th></th>\n",
       "      <th></th>\n",
       "      <th></th>\n",
       "      <th></th>\n",
       "      <th></th>\n",
       "      <th></th>\n",
       "      <th></th>\n",
       "      <th></th>\n",
       "      <th></th>\n",
       "      <th></th>\n",
       "      <th></th>\n",
       "      <th></th>\n",
       "      <th></th>\n",
       "    </tr>\n",
       "  </thead>\n",
       "  <tbody>\n",
       "    <tr>\n",
       "      <th>1</th>\n",
       "      <td>25884</td>\n",
       "      <td>33.63</td>\n",
       "      <td>118596</td>\n",
       "      <td>118595</td>\n",
       "      <td>125738</td>\n",
       "      <td>3</td>\n",
       "      <td>2</td>\n",
       "      <td>121374</td>\n",
       "      <td>-2.266430</td>\n",
       "      <td>1945</td>\n",
       "      <td>118450</td>\n",
       "      <td>119184</td>\n",
       "      <td>121372</td>\n",
       "      <td>2</td>\n",
       "    </tr>\n",
       "    <tr>\n",
       "      <th>2</th>\n",
       "      <td>34346</td>\n",
       "      <td>10.62</td>\n",
       "      <td>118041</td>\n",
       "      <td>117902</td>\n",
       "      <td>130913</td>\n",
       "      <td>1</td>\n",
       "      <td>23</td>\n",
       "      <td>118943</td>\n",
       "      <td>-0.305612</td>\n",
       "      <td>15385</td>\n",
       "      <td>117945</td>\n",
       "      <td>292795</td>\n",
       "      <td>259173</td>\n",
       "      <td>1</td>\n",
       "    </tr>\n",
       "    <tr>\n",
       "      <th>3</th>\n",
       "      <td>34923</td>\n",
       "      <td>1.77</td>\n",
       "      <td>118327</td>\n",
       "      <td>117961</td>\n",
       "      <td>124402</td>\n",
       "      <td>2</td>\n",
       "      <td>1</td>\n",
       "      <td>118786</td>\n",
       "      <td>2.015561</td>\n",
       "      <td>7547</td>\n",
       "      <td>118933</td>\n",
       "      <td>290919</td>\n",
       "      <td>118784</td>\n",
       "      <td>1</td>\n",
       "    </tr>\n",
       "    <tr>\n",
       "      <th>4</th>\n",
       "      <td>80926</td>\n",
       "      <td>30.09</td>\n",
       "      <td>118300</td>\n",
       "      <td>117961</td>\n",
       "      <td>301218</td>\n",
       "      <td>0</td>\n",
       "      <td>1</td>\n",
       "      <td>118332</td>\n",
       "      <td>-3.172501</td>\n",
       "      <td>4933</td>\n",
       "      <td>118458</td>\n",
       "      <td>118331</td>\n",
       "      <td>307024</td>\n",
       "      <td>2</td>\n",
       "    </tr>\n",
       "    <tr>\n",
       "      <th>5</th>\n",
       "      <td>4674</td>\n",
       "      <td>1.77</td>\n",
       "      <td>119921</td>\n",
       "      <td>119920</td>\n",
       "      <td>302830</td>\n",
       "      <td>0</td>\n",
       "      <td>2</td>\n",
       "      <td>128231</td>\n",
       "      <td>0.573767</td>\n",
       "      <td>13836</td>\n",
       "      <td>142145</td>\n",
       "      <td>4673</td>\n",
       "      <td>128230</td>\n",
       "      <td>620</td>\n",
       "    </tr>\n",
       "    <tr>\n",
       "      <th>6</th>\n",
       "      <td>31824</td>\n",
       "      <td>3.54</td>\n",
       "      <td>118300</td>\n",
       "      <td>117961</td>\n",
       "      <td>154949</td>\n",
       "      <td>3</td>\n",
       "      <td>1</td>\n",
       "      <td>119851</td>\n",
       "      <td>1.000000</td>\n",
       "      <td>3085</td>\n",
       "      <td>125821</td>\n",
       "      <td>118638</td>\n",
       "      <td>119849</td>\n",
       "      <td>2</td>\n",
       "    </tr>\n",
       "    <tr>\n",
       "      <th>7</th>\n",
       "      <td>25889</td>\n",
       "      <td>3.54</td>\n",
       "      <td>118225</td>\n",
       "      <td>117961</td>\n",
       "      <td>120324</td>\n",
       "      <td>1</td>\n",
       "      <td>1</td>\n",
       "      <td>122850</td>\n",
       "      <td>1.000000</td>\n",
       "      <td>3526</td>\n",
       "      <td>120323</td>\n",
       "      <td>119095</td>\n",
       "      <td>122849</td>\n",
       "      <td>1</td>\n",
       "    </tr>\n",
       "    <tr>\n",
       "      <th>8</th>\n",
       "      <td>80867</td>\n",
       "      <td>1.77</td>\n",
       "      <td>121006</td>\n",
       "      <td>121005</td>\n",
       "      <td>164523</td>\n",
       "      <td>10</td>\n",
       "      <td>6</td>\n",
       "      <td>122131</td>\n",
       "      <td>-1.641212</td>\n",
       "      <td>1383</td>\n",
       "      <td>118575</td>\n",
       "      <td>121916</td>\n",
       "      <td>122129</td>\n",
       "      <td>1</td>\n",
       "    </tr>\n",
       "    <tr>\n",
       "      <th>9</th>\n",
       "      <td>17225</td>\n",
       "      <td>23.01</td>\n",
       "      <td>118386</td>\n",
       "      <td>117961</td>\n",
       "      <td>269406</td>\n",
       "      <td>0</td>\n",
       "      <td>1</td>\n",
       "      <td>118399</td>\n",
       "      <td>1.947557</td>\n",
       "      <td>5249</td>\n",
       "      <td>123144</td>\n",
       "      <td>118398</td>\n",
       "      <td>118396</td>\n",
       "      <td>2</td>\n",
       "    </tr>\n",
       "    <tr>\n",
       "      <th>10</th>\n",
       "      <td>45142</td>\n",
       "      <td>1.77</td>\n",
       "      <td>118052</td>\n",
       "      <td>117961</td>\n",
       "      <td>121809</td>\n",
       "      <td>0</td>\n",
       "      <td>9</td>\n",
       "      <td>118639</td>\n",
       "      <td>-0.369777</td>\n",
       "      <td>15904</td>\n",
       "      <td>118053</td>\n",
       "      <td>118638</td>\n",
       "      <td>118636</td>\n",
       "      <td>9</td>\n",
       "    </tr>\n",
       "  </tbody>\n",
       "</table>\n",
       "</div>"
      ],
      "text/plain": [
       "       f1     f3      f4      f7      f8  f10  f12     f13       f14    f15  \\\n",
       "Id                                                                            \n",
       "1   25884  33.63  118596  118595  125738    3    2  121374 -2.266430   1945   \n",
       "2   34346  10.62  118041  117902  130913    1   23  118943 -0.305612  15385   \n",
       "3   34923   1.77  118327  117961  124402    2    1  118786  2.015561   7547   \n",
       "4   80926  30.09  118300  117961  301218    0    1  118332 -3.172501   4933   \n",
       "5    4674   1.77  119921  119920  302830    0    2  128231  0.573767  13836   \n",
       "6   31824   3.54  118300  117961  154949    3    1  119851  1.000000   3085   \n",
       "7   25889   3.54  118225  117961  120324    1    1  122850  1.000000   3526   \n",
       "8   80867   1.77  121006  121005  164523   10    6  122131 -1.641212   1383   \n",
       "9   17225  23.01  118386  117961  269406    0    1  118399  1.947557   5249   \n",
       "10  45142   1.77  118052  117961  121809    0    9  118639 -0.369777  15904   \n",
       "\n",
       "       f16     f17     f19  f23  \n",
       "Id                               \n",
       "1   118450  119184  121372    2  \n",
       "2   117945  292795  259173    1  \n",
       "3   118933  290919  118784    1  \n",
       "4   118458  118331  307024    2  \n",
       "5   142145    4673  128230  620  \n",
       "6   125821  118638  119849    2  \n",
       "7   120323  119095  122849    1  \n",
       "8   118575  121916  122129    1  \n",
       "9   123144  118398  118396    2  \n",
       "10  118053  118638  118636    9  "
      ]
     },
     "execution_count": 28,
     "metadata": {},
     "output_type": "execute_result"
    }
   ],
   "source": [
    "X_drop = X.drop(['f2','f5', 'f6', 'f9', 'f11', 'f18', 'f20', 'f21', 'f22', 'f24'], axis=1)\n",
    "X_drop.head(10)"
   ]
  },
  {
   "cell_type": "markdown",
   "metadata": {},
   "source": [
    "# Logging skewed features"
   ]
  },
  {
   "cell_type": "markdown",
   "metadata": {},
   "source": [
    "### I then tried to log the skewed features to see if the model could predict better and thus prevent overfitting."
   ]
  },
  {
   "cell_type": "code",
   "execution_count": 29,
   "metadata": {},
   "outputs": [],
   "source": [
    "train = pd.read_csv('train_final.csv', index_col='Id')\n",
    "test = pd.read_csv('test_final.csv', index_col='Id')\n",
    "y = train['Y']\n",
    "X = train.drop('Y', axis=1)\n",
    "all_data = pd.concat([X, test])"
   ]
  },
  {
   "cell_type": "code",
   "execution_count": 30,
   "metadata": {},
   "outputs": [
    {
     "name": "stdout",
     "output_type": "stream",
     "text": [
      "Index(['f1', 'f2', 'f3', 'f5', 'f6', 'f8', 'f9', 'f10', 'f11', 'f12', 'f13',\n",
      "       'f15', 'f18', 'f19', 'f20', 'f21', 'f22', 'f23', 'f24'],\n",
      "      dtype='object')\n"
     ]
    },
    {
     "data": {
      "text/html": [
       "<div>\n",
       "<style scoped>\n",
       "    .dataframe tbody tr th:only-of-type {\n",
       "        vertical-align: middle;\n",
       "    }\n",
       "\n",
       "    .dataframe tbody tr th {\n",
       "        vertical-align: top;\n",
       "    }\n",
       "\n",
       "    .dataframe thead th {\n",
       "        text-align: right;\n",
       "    }\n",
       "</style>\n",
       "<table border=\"1\" class=\"dataframe\">\n",
       "  <thead>\n",
       "    <tr style=\"text-align: right;\">\n",
       "      <th></th>\n",
       "      <th>f1</th>\n",
       "      <th>f2</th>\n",
       "      <th>f3</th>\n",
       "      <th>f4</th>\n",
       "      <th>f5</th>\n",
       "      <th>f6</th>\n",
       "      <th>f7</th>\n",
       "      <th>f8</th>\n",
       "      <th>f9</th>\n",
       "      <th>f10</th>\n",
       "      <th>...</th>\n",
       "      <th>f15</th>\n",
       "      <th>f16</th>\n",
       "      <th>f17</th>\n",
       "      <th>f18</th>\n",
       "      <th>f19</th>\n",
       "      <th>f20</th>\n",
       "      <th>f21</th>\n",
       "      <th>f22</th>\n",
       "      <th>f23</th>\n",
       "      <th>f24</th>\n",
       "    </tr>\n",
       "    <tr>\n",
       "      <th>Id</th>\n",
       "      <th></th>\n",
       "      <th></th>\n",
       "      <th></th>\n",
       "      <th></th>\n",
       "      <th></th>\n",
       "      <th></th>\n",
       "      <th></th>\n",
       "      <th></th>\n",
       "      <th></th>\n",
       "      <th></th>\n",
       "      <th></th>\n",
       "      <th></th>\n",
       "      <th></th>\n",
       "      <th></th>\n",
       "      <th></th>\n",
       "      <th></th>\n",
       "      <th></th>\n",
       "      <th></th>\n",
       "      <th></th>\n",
       "      <th></th>\n",
       "      <th></th>\n",
       "    </tr>\n",
       "  </thead>\n",
       "  <tbody>\n",
       "    <tr>\n",
       "      <th>1</th>\n",
       "      <td>10.161419</td>\n",
       "      <td>0.693147</td>\n",
       "      <td>3.544720</td>\n",
       "      <td>118596</td>\n",
       "      <td>0.693147</td>\n",
       "      <td>0.0</td>\n",
       "      <td>118595</td>\n",
       "      <td>11.741964</td>\n",
       "      <td>0.693147</td>\n",
       "      <td>1.386294</td>\n",
       "      <td>...</td>\n",
       "      <td>7.573531</td>\n",
       "      <td>118450</td>\n",
       "      <td>119184</td>\n",
       "      <td>0.693147</td>\n",
       "      <td>11.706624</td>\n",
       "      <td>0.693147</td>\n",
       "      <td>0.693147</td>\n",
       "      <td>0.693147</td>\n",
       "      <td>1.098612</td>\n",
       "      <td>0.693147</td>\n",
       "    </tr>\n",
       "    <tr>\n",
       "      <th>2</th>\n",
       "      <td>10.444270</td>\n",
       "      <td>0.693147</td>\n",
       "      <td>2.452728</td>\n",
       "      <td>118041</td>\n",
       "      <td>0.693147</td>\n",
       "      <td>0.0</td>\n",
       "      <td>117902</td>\n",
       "      <td>11.782296</td>\n",
       "      <td>0.693147</td>\n",
       "      <td>0.693147</td>\n",
       "      <td>...</td>\n",
       "      <td>9.641213</td>\n",
       "      <td>117945</td>\n",
       "      <td>292795</td>\n",
       "      <td>0.693147</td>\n",
       "      <td>12.465255</td>\n",
       "      <td>0.693147</td>\n",
       "      <td>0.693147</td>\n",
       "      <td>0.693147</td>\n",
       "      <td>0.693147</td>\n",
       "      <td>0.693147</td>\n",
       "    </tr>\n",
       "    <tr>\n",
       "      <th>3</th>\n",
       "      <td>10.460930</td>\n",
       "      <td>0.693147</td>\n",
       "      <td>1.018847</td>\n",
       "      <td>118327</td>\n",
       "      <td>0.693147</td>\n",
       "      <td>0.0</td>\n",
       "      <td>117961</td>\n",
       "      <td>11.731282</td>\n",
       "      <td>0.693147</td>\n",
       "      <td>1.098612</td>\n",
       "      <td>...</td>\n",
       "      <td>8.929038</td>\n",
       "      <td>118933</td>\n",
       "      <td>290919</td>\n",
       "      <td>0.693147</td>\n",
       "      <td>11.685070</td>\n",
       "      <td>0.693147</td>\n",
       "      <td>0.693147</td>\n",
       "      <td>0.693147</td>\n",
       "      <td>0.693147</td>\n",
       "      <td>0.693147</td>\n",
       "    </tr>\n",
       "    <tr>\n",
       "      <th>4</th>\n",
       "      <td>11.301303</td>\n",
       "      <td>0.693147</td>\n",
       "      <td>3.436886</td>\n",
       "      <td>118300</td>\n",
       "      <td>0.693147</td>\n",
       "      <td>0.0</td>\n",
       "      <td>117961</td>\n",
       "      <td>12.615593</td>\n",
       "      <td>0.693147</td>\n",
       "      <td>0.000000</td>\n",
       "      <td>...</td>\n",
       "      <td>8.503905</td>\n",
       "      <td>118458</td>\n",
       "      <td>118331</td>\n",
       "      <td>0.693147</td>\n",
       "      <td>12.634684</td>\n",
       "      <td>0.693147</td>\n",
       "      <td>0.693147</td>\n",
       "      <td>0.693147</td>\n",
       "      <td>1.098612</td>\n",
       "      <td>0.693147</td>\n",
       "    </tr>\n",
       "    <tr>\n",
       "      <th>5</th>\n",
       "      <td>8.449984</td>\n",
       "      <td>0.693147</td>\n",
       "      <td>1.018847</td>\n",
       "      <td>119921</td>\n",
       "      <td>0.693147</td>\n",
       "      <td>0.0</td>\n",
       "      <td>119920</td>\n",
       "      <td>12.620930</td>\n",
       "      <td>0.693147</td>\n",
       "      <td>0.000000</td>\n",
       "      <td>...</td>\n",
       "      <td>9.535101</td>\n",
       "      <td>142145</td>\n",
       "      <td>4673</td>\n",
       "      <td>0.693147</td>\n",
       "      <td>11.761589</td>\n",
       "      <td>0.693147</td>\n",
       "      <td>0.693147</td>\n",
       "      <td>0.693147</td>\n",
       "      <td>6.431331</td>\n",
       "      <td>0.693147</td>\n",
       "    </tr>\n",
       "    <tr>\n",
       "      <th>6</th>\n",
       "      <td>10.368007</td>\n",
       "      <td>0.693147</td>\n",
       "      <td>1.512927</td>\n",
       "      <td>118300</td>\n",
       "      <td>0.693147</td>\n",
       "      <td>0.0</td>\n",
       "      <td>117961</td>\n",
       "      <td>11.950858</td>\n",
       "      <td>0.693147</td>\n",
       "      <td>1.386294</td>\n",
       "      <td>...</td>\n",
       "      <td>8.034631</td>\n",
       "      <td>125821</td>\n",
       "      <td>118638</td>\n",
       "      <td>0.693147</td>\n",
       "      <td>11.693996</td>\n",
       "      <td>0.693147</td>\n",
       "      <td>0.693147</td>\n",
       "      <td>0.693147</td>\n",
       "      <td>1.098612</td>\n",
       "      <td>0.693147</td>\n",
       "    </tr>\n",
       "    <tr>\n",
       "      <th>7</th>\n",
       "      <td>10.161612</td>\n",
       "      <td>0.693147</td>\n",
       "      <td>1.512927</td>\n",
       "      <td>118225</td>\n",
       "      <td>0.693147</td>\n",
       "      <td>0.0</td>\n",
       "      <td>117961</td>\n",
       "      <td>11.697952</td>\n",
       "      <td>0.693147</td>\n",
       "      <td>0.693147</td>\n",
       "      <td>...</td>\n",
       "      <td>8.168203</td>\n",
       "      <td>120323</td>\n",
       "      <td>119095</td>\n",
       "      <td>0.693147</td>\n",
       "      <td>11.718719</td>\n",
       "      <td>0.693147</td>\n",
       "      <td>0.693147</td>\n",
       "      <td>0.693147</td>\n",
       "      <td>0.693147</td>\n",
       "      <td>0.693147</td>\n",
       "    </tr>\n",
       "    <tr>\n",
       "      <th>8</th>\n",
       "      <td>11.300573</td>\n",
       "      <td>0.693147</td>\n",
       "      <td>1.018847</td>\n",
       "      <td>121006</td>\n",
       "      <td>0.693147</td>\n",
       "      <td>0.0</td>\n",
       "      <td>121005</td>\n",
       "      <td>12.010812</td>\n",
       "      <td>0.693147</td>\n",
       "      <td>2.397895</td>\n",
       "      <td>...</td>\n",
       "      <td>7.232733</td>\n",
       "      <td>118575</td>\n",
       "      <td>121916</td>\n",
       "      <td>0.693147</td>\n",
       "      <td>11.712841</td>\n",
       "      <td>0.693147</td>\n",
       "      <td>0.693147</td>\n",
       "      <td>0.693147</td>\n",
       "      <td>0.693147</td>\n",
       "      <td>0.693147</td>\n",
       "    </tr>\n",
       "    <tr>\n",
       "      <th>9</th>\n",
       "      <td>9.754175</td>\n",
       "      <td>0.693147</td>\n",
       "      <td>3.178470</td>\n",
       "      <td>118386</td>\n",
       "      <td>0.693147</td>\n",
       "      <td>0.0</td>\n",
       "      <td>117961</td>\n",
       "      <td>12.503979</td>\n",
       "      <td>0.693147</td>\n",
       "      <td>0.000000</td>\n",
       "      <td>...</td>\n",
       "      <td>8.565983</td>\n",
       "      <td>123144</td>\n",
       "      <td>118398</td>\n",
       "      <td>0.693147</td>\n",
       "      <td>11.681799</td>\n",
       "      <td>0.693147</td>\n",
       "      <td>0.693147</td>\n",
       "      <td>0.693147</td>\n",
       "      <td>1.098612</td>\n",
       "      <td>0.693147</td>\n",
       "    </tr>\n",
       "    <tr>\n",
       "      <th>10</th>\n",
       "      <td>10.717591</td>\n",
       "      <td>0.693147</td>\n",
       "      <td>1.018847</td>\n",
       "      <td>118052</td>\n",
       "      <td>0.693147</td>\n",
       "      <td>0.0</td>\n",
       "      <td>117961</td>\n",
       "      <td>11.710218</td>\n",
       "      <td>0.693147</td>\n",
       "      <td>0.000000</td>\n",
       "      <td>...</td>\n",
       "      <td>9.674389</td>\n",
       "      <td>118053</td>\n",
       "      <td>118638</td>\n",
       "      <td>0.693147</td>\n",
       "      <td>11.683824</td>\n",
       "      <td>0.693147</td>\n",
       "      <td>0.693147</td>\n",
       "      <td>0.693147</td>\n",
       "      <td>2.302585</td>\n",
       "      <td>0.693147</td>\n",
       "    </tr>\n",
       "  </tbody>\n",
       "</table>\n",
       "<p>10 rows × 24 columns</p>\n",
       "</div>"
      ],
      "text/plain": [
       "           f1        f2        f3      f4        f5   f6      f7         f8  \\\n",
       "Id                                                                            \n",
       "1   10.161419  0.693147  3.544720  118596  0.693147  0.0  118595  11.741964   \n",
       "2   10.444270  0.693147  2.452728  118041  0.693147  0.0  117902  11.782296   \n",
       "3   10.460930  0.693147  1.018847  118327  0.693147  0.0  117961  11.731282   \n",
       "4   11.301303  0.693147  3.436886  118300  0.693147  0.0  117961  12.615593   \n",
       "5    8.449984  0.693147  1.018847  119921  0.693147  0.0  119920  12.620930   \n",
       "6   10.368007  0.693147  1.512927  118300  0.693147  0.0  117961  11.950858   \n",
       "7   10.161612  0.693147  1.512927  118225  0.693147  0.0  117961  11.697952   \n",
       "8   11.300573  0.693147  1.018847  121006  0.693147  0.0  121005  12.010812   \n",
       "9    9.754175  0.693147  3.178470  118386  0.693147  0.0  117961  12.503979   \n",
       "10  10.717591  0.693147  1.018847  118052  0.693147  0.0  117961  11.710218   \n",
       "\n",
       "          f9       f10    ...          f15     f16     f17       f18  \\\n",
       "Id                        ...                                          \n",
       "1   0.693147  1.386294    ...     7.573531  118450  119184  0.693147   \n",
       "2   0.693147  0.693147    ...     9.641213  117945  292795  0.693147   \n",
       "3   0.693147  1.098612    ...     8.929038  118933  290919  0.693147   \n",
       "4   0.693147  0.000000    ...     8.503905  118458  118331  0.693147   \n",
       "5   0.693147  0.000000    ...     9.535101  142145    4673  0.693147   \n",
       "6   0.693147  1.386294    ...     8.034631  125821  118638  0.693147   \n",
       "7   0.693147  0.693147    ...     8.168203  120323  119095  0.693147   \n",
       "8   0.693147  2.397895    ...     7.232733  118575  121916  0.693147   \n",
       "9   0.693147  0.000000    ...     8.565983  123144  118398  0.693147   \n",
       "10  0.693147  0.000000    ...     9.674389  118053  118638  0.693147   \n",
       "\n",
       "          f19       f20       f21       f22       f23       f24  \n",
       "Id                                                               \n",
       "1   11.706624  0.693147  0.693147  0.693147  1.098612  0.693147  \n",
       "2   12.465255  0.693147  0.693147  0.693147  0.693147  0.693147  \n",
       "3   11.685070  0.693147  0.693147  0.693147  0.693147  0.693147  \n",
       "4   12.634684  0.693147  0.693147  0.693147  1.098612  0.693147  \n",
       "5   11.761589  0.693147  0.693147  0.693147  6.431331  0.693147  \n",
       "6   11.693996  0.693147  0.693147  0.693147  1.098612  0.693147  \n",
       "7   11.718719  0.693147  0.693147  0.693147  0.693147  0.693147  \n",
       "8   11.712841  0.693147  0.693147  0.693147  0.693147  0.693147  \n",
       "9   11.681799  0.693147  0.693147  0.693147  1.098612  0.693147  \n",
       "10  11.683824  0.693147  0.693147  0.693147  2.302585  0.693147  \n",
       "\n",
       "[10 rows x 24 columns]"
      ]
     },
     "execution_count": 30,
     "metadata": {},
     "output_type": "execute_result"
    }
   ],
   "source": [
    "#log transform skewed numeric features:\n",
    "numeric_feats = all_data.dtypes[all_data.dtypes != \"object\"].index\n",
    "#print(numeric_feats)\n",
    "\n",
    "skewed_feats = X[numeric_feats].apply(lambda x: skew(x.dropna())) #compute skewness\n",
    "#print(skewed_feats)\n",
    "skewed_feats = skewed_feats[skewed_feats > 0.75]\n",
    "#print(skewed_feats)\n",
    "skewed_feats = skewed_feats.index\n",
    "print(skewed_feats)\n",
    "\n",
    "all_data[skewed_feats] = np.log1p(all_data[skewed_feats])\n",
    "all_data.head(10)"
   ]
  },
  {
   "cell_type": "code",
   "execution_count": 31,
   "metadata": {},
   "outputs": [],
   "source": [
    "# split back into train/test\n",
    "X = all_data.iloc[:16383]\n",
    "test = all_data.iloc[16383:]"
   ]
  },
  {
   "cell_type": "code",
   "execution_count": 5,
   "metadata": {},
   "outputs": [
    {
     "data": {
      "text/plain": [
       "XGBClassifier(base_score=0.5, booster='dart', colsample_bylevel=1,\n",
       "       colsample_bytree=1, gamma=9, learning_rate=0.1, max_delta_step=0,\n",
       "       max_depth=24, min_child_weight=1, missing=None, n_estimators=1500,\n",
       "       n_jobs=1, nthread=None, objective='binary:logistic', random_state=0,\n",
       "       reg_alpha=0, reg_lambda=1, scale_pos_weight=0.8, seed=None,\n",
       "       silent=True, subsample=0.6)"
      ]
     },
     "execution_count": 5,
     "metadata": {},
     "output_type": "execute_result"
    }
   ],
   "source": [
    "xgb_model = XGBClassifier(booster='dart',max_depth=24,min_child_weight=1,gamma=9,scale_pos_weight=.8,subsample=0.6,n_estimators=1500)\n",
    "xgb_model.fit(X, y)\n"
   ]
  },
  {
   "cell_type": "code",
   "execution_count": 6,
   "metadata": {},
   "outputs": [
    {
     "data": {
      "image/png": "[encoded data removed]",
      "text/plain": [
       "<Figure size 432x288 with 1 Axes>"
      ]
     },
     "metadata": {
      "needs_background": "light"
     },
     "output_type": "display_data"
    },
    {
     "data": {
      "text/plain": [
       "0.9866825492503613"
      ]
     },
     "execution_count": 6,
     "metadata": {},
     "output_type": "execute_result"
    }
   ],
   "source": [
    "y_probas = xgb_model.predict_proba(X)\n",
    "# ROC on train set... need to predict on test set\n",
    "fpr, tpr, thresholds = roc_curve(y, y_probas[:, 1])\n",
    "\n",
    "plt.plot([0,1],[0,1],'k--')\n",
    "plt.plot(fpr, tpr, label='NB')\n",
    "plt.xlabel('fpr')\n",
    "plt.ylabel('tpr')\n",
    "plt.title('ROC Curve')\n",
    "plt.show()\n",
    "\n",
    "roc_auc_score(y, y_probas[:, 1])"
   ]
  },
  {
   "cell_type": "markdown",
   "metadata": {},
   "source": [
    "### Kaggle AUC score of 0.87388. This is still not an improvement. Perhaps, logging some of the skewed features doesn't really help with the overfitting. I think it's because there are so too many columns and none of them are actually that great of predictors for the model."
   ]
  },
  {
   "cell_type": "markdown",
   "metadata": {},
   "source": [
    "# Try Stacking"
   ]
  },
  {
   "cell_type": "markdown",
   "metadata": {},
   "source": [
    "### I then tried stacking. I added the prediction of my best model as one of the features, and then trained another model with the same parameters as that best model."
   ]
  },
  {
   "cell_type": "code",
   "execution_count": 20,
   "metadata": {},
   "outputs": [
    {
     "data": {
      "text/plain": [
       "XGBClassifier(base_score=0.5, booster='dart', colsample_bylevel=1,\n",
       "       colsample_bytree=1, gamma=9, learning_rate=0.1, max_delta_step=0,\n",
       "       max_depth=24, min_child_weight=1, missing=None, n_estimators=1500,\n",
       "       n_jobs=1, nthread=None, objective='binary:logistic', random_state=0,\n",
       "       reg_alpha=0, reg_lambda=1, scale_pos_weight=0.8, seed=None,\n",
       "       silent=True, subsample=0.6)"
      ]
     },
     "execution_count": 20,
     "metadata": {},
     "output_type": "execute_result"
    }
   ],
   "source": [
    "xgb_model = XGBClassifier(booster='dart',max_depth=24,min_child_weight=1,gamma=9,scale_pos_weight=.8,subsample=0.6,n_estimators=1500)\n",
    "xgb_model.fit(X, y)"
   ]
  },
  {
   "cell_type": "code",
   "execution_count": 21,
   "metadata": {},
   "outputs": [
    {
     "data": {
      "image/png": "[encoded data removed]",
      "text/plain": [
       "<Figure size 432x288 with 1 Axes>"
      ]
     },
     "metadata": {
      "needs_background": "light"
     },
     "output_type": "display_data"
    },
    {
     "data": {
      "text/plain": [
       "0.9866825492503613"
      ]
     },
     "execution_count": 21,
     "metadata": {},
     "output_type": "execute_result"
    }
   ],
   "source": [
    "y_probas = xgb_model.predict_proba(X)\n",
    "# ROC on train set... need to predict on test set\n",
    "fpr, tpr, thresholds = roc_curve(y, y_probas[:, 1])\n",
    "\n",
    "plt.plot([0,1],[0,1],'k--')\n",
    "plt.plot(fpr, tpr, label='NB')\n",
    "plt.xlabel('fpr')\n",
    "plt.ylabel('tpr')\n",
    "plt.title('ROC Curve')\n",
    "plt.show()\n",
    "\n",
    "roc_auc_score(y, y_probas[:, 1])"
   ]
  },
  {
   "cell_type": "code",
   "execution_count": 22,
   "metadata": {},
   "outputs": [],
   "source": [
    "y_pred = xgb_model.predict(X)\n",
    "X_stack1 = X.copy()\n",
    "X_stack1['xgb_model1'] = y_pred\n",
    "#X_stack1"
   ]
  },
  {
   "cell_type": "code",
   "execution_count": 23,
   "metadata": {},
   "outputs": [
    {
     "data": {
      "text/plain": [
       "XGBClassifier(base_score=0.5, booster='dart', colsample_bylevel=1,\n",
       "       colsample_bytree=1, gamma=9, learning_rate=0.1, max_delta_step=0,\n",
       "       max_depth=25, min_child_weight=1, missing=None, n_estimators=1500,\n",
       "       n_jobs=1, nthread=None, objective='binary:logistic', random_state=0,\n",
       "       reg_alpha=0, reg_lambda=1, scale_pos_weight=0.8, seed=None,\n",
       "       silent=True, subsample=0.6)"
      ]
     },
     "execution_count": 23,
     "metadata": {},
     "output_type": "execute_result"
    }
   ],
   "source": [
    "xgb_model_stack1 = XGBClassifier(booster='dart',max_depth=25,min_child_weight=1,gamma=9,scale_pos_weight=.8,subsample=0.6,n_estimators=1500)\n",
    "xgb_model_stack1.fit(X_stack1, y)"
   ]
  },
  {
   "cell_type": "code",
   "execution_count": 24,
   "metadata": {},
   "outputs": [
    {
     "data": {
      "image/png": "[encoded data removed]",
      "text/plain": [
       "<Figure size 432x288 with 1 Axes>"
      ]
     },
     "metadata": {
      "needs_background": "light"
     },
     "output_type": "display_data"
    },
    {
     "data": {
      "text/plain": [
       "0.9913711576653969"
      ]
     },
     "execution_count": 24,
     "metadata": {},
     "output_type": "execute_result"
    }
   ],
   "source": [
    "y_probas = xgb_model_stack1.predict_proba(X_stack1)\n",
    "# ROC on train set... need to predict on test set\n",
    "fpr, tpr, thresholds = roc_curve(y, y_probas[:, 1])\n",
    "\n",
    "plt.plot([0,1],[0,1],'k--')\n",
    "plt.plot(fpr, tpr, label='NB')\n",
    "plt.xlabel('fpr')\n",
    "plt.ylabel('tpr')\n",
    "plt.title('ROC Curve')\n",
    "plt.show()\n",
    "\n",
    "roc_auc_score(y, y_probas[:, 1])"
   ]
  },
  {
   "cell_type": "code",
   "execution_count": 25,
   "metadata": {},
   "outputs": [],
   "source": [
    "test = pd.read_csv('test_final.csv', index_col='Id')"
   ]
  },
  {
   "cell_type": "code",
   "execution_count": 26,
   "metadata": {},
   "outputs": [],
   "source": [
    "y_pred_test = xgb_model.predict(test)\n",
    "test_stack1 = test.copy()\n",
    "test_stack1['xgb_model1'] = y_pred_test\n",
    "#test_stack1"
   ]
  },
  {
   "cell_type": "code",
   "execution_count": 27,
   "metadata": {},
   "outputs": [
    {
     "data": {
      "text/plain": [
       "array([0.88480836, 0.926687  , 0.9986436 , ..., 0.9974009 , 0.9515858 ,\n",
       "       0.9698776 ], dtype=float32)"
      ]
     },
     "execution_count": 27,
     "metadata": {},
     "output_type": "execute_result"
    }
   ],
   "source": [
    "y_probas_test = xgb_model_stack1.predict_proba(test_stack1)\n",
    "y_probas_test[:,1]"
   ]
  },
  {
   "cell_type": "code",
   "execution_count": 28,
   "metadata": {},
   "outputs": [],
   "source": [
    "submission = pd.DataFrame({'Id':test.index,'Y':y_probas_test[:,1]}).set_index('Id')"
   ]
  },
  {
   "cell_type": "code",
   "execution_count": 29,
   "metadata": {},
   "outputs": [],
   "source": [
    "submission.to_csv('submission.csv')"
   ]
  },
  {
   "cell_type": "markdown",
   "metadata": {},
   "source": [
    "### Of course, this increased the training AUC, but it lowered the Kaggle (test) AUC. This stacked model got an AUC of 0.87097 on Kaggle. This makes sense though because stacking is usually used to make the training of the model more robust, and this usually leads to overfitting."
   ]
  },
  {
   "cell_type": "markdown",
   "metadata": {},
   "source": [
    "# Try dropping some features"
   ]
  },
  {
   "cell_type": "markdown",
   "metadata": {},
   "source": [
    "### I then tried dropping some of the features that were highly imbalanced. E.g. a feature that had mostly 1's or 0's."
   ]
  },
  {
   "cell_type": "code",
   "execution_count": 2,
   "metadata": {},
   "outputs": [],
   "source": [
    "train = pd.read_csv('train_final.csv', index_col='Id')\n",
    "test = pd.read_csv('test_final.csv', index_col='Id')\n",
    "y = train['Y']\n",
    "X = train.drop('Y', axis=1)\n",
    "all_data = pd.concat([X, test])"
   ]
  },
  {
   "cell_type": "markdown",
   "metadata": {},
   "source": [
    "### I breifly browsed through the data to see which columns had a high imbalance of values, and these were the columns I found."
   ]
  },
  {
   "cell_type": "code",
   "execution_count": 3,
   "metadata": {},
   "outputs": [
    {
     "data": {
      "text/html": [
       "<div>\n",
       "<style scoped>\n",
       "    .dataframe tbody tr th:only-of-type {\n",
       "        vertical-align: middle;\n",
       "    }\n",
       "\n",
       "    .dataframe tbody tr th {\n",
       "        vertical-align: top;\n",
       "    }\n",
       "\n",
       "    .dataframe thead th {\n",
       "        text-align: right;\n",
       "    }\n",
       "</style>\n",
       "<table border=\"1\" class=\"dataframe\">\n",
       "  <thead>\n",
       "    <tr style=\"text-align: right;\">\n",
       "      <th></th>\n",
       "      <th>f1</th>\n",
       "      <th>f3</th>\n",
       "      <th>f4</th>\n",
       "      <th>f7</th>\n",
       "      <th>f8</th>\n",
       "      <th>f10</th>\n",
       "      <th>f12</th>\n",
       "      <th>f13</th>\n",
       "      <th>f14</th>\n",
       "      <th>f15</th>\n",
       "      <th>f16</th>\n",
       "      <th>f17</th>\n",
       "      <th>f19</th>\n",
       "      <th>f23</th>\n",
       "    </tr>\n",
       "    <tr>\n",
       "      <th>Id</th>\n",
       "      <th></th>\n",
       "      <th></th>\n",
       "      <th></th>\n",
       "      <th></th>\n",
       "      <th></th>\n",
       "      <th></th>\n",
       "      <th></th>\n",
       "      <th></th>\n",
       "      <th></th>\n",
       "      <th></th>\n",
       "      <th></th>\n",
       "      <th></th>\n",
       "      <th></th>\n",
       "      <th></th>\n",
       "    </tr>\n",
       "  </thead>\n",
       "  <tbody>\n",
       "    <tr>\n",
       "      <th>1</th>\n",
       "      <td>25884</td>\n",
       "      <td>33.63</td>\n",
       "      <td>118596</td>\n",
       "      <td>118595</td>\n",
       "      <td>125738</td>\n",
       "      <td>3</td>\n",
       "      <td>2</td>\n",
       "      <td>121374</td>\n",
       "      <td>-2.266430</td>\n",
       "      <td>1945</td>\n",
       "      <td>118450</td>\n",
       "      <td>119184</td>\n",
       "      <td>121372</td>\n",
       "      <td>2</td>\n",
       "    </tr>\n",
       "    <tr>\n",
       "      <th>2</th>\n",
       "      <td>34346</td>\n",
       "      <td>10.62</td>\n",
       "      <td>118041</td>\n",
       "      <td>117902</td>\n",
       "      <td>130913</td>\n",
       "      <td>1</td>\n",
       "      <td>23</td>\n",
       "      <td>118943</td>\n",
       "      <td>-0.305612</td>\n",
       "      <td>15385</td>\n",
       "      <td>117945</td>\n",
       "      <td>292795</td>\n",
       "      <td>259173</td>\n",
       "      <td>1</td>\n",
       "    </tr>\n",
       "    <tr>\n",
       "      <th>3</th>\n",
       "      <td>34923</td>\n",
       "      <td>1.77</td>\n",
       "      <td>118327</td>\n",
       "      <td>117961</td>\n",
       "      <td>124402</td>\n",
       "      <td>2</td>\n",
       "      <td>1</td>\n",
       "      <td>118786</td>\n",
       "      <td>2.015561</td>\n",
       "      <td>7547</td>\n",
       "      <td>118933</td>\n",
       "      <td>290919</td>\n",
       "      <td>118784</td>\n",
       "      <td>1</td>\n",
       "    </tr>\n",
       "    <tr>\n",
       "      <th>4</th>\n",
       "      <td>80926</td>\n",
       "      <td>30.09</td>\n",
       "      <td>118300</td>\n",
       "      <td>117961</td>\n",
       "      <td>301218</td>\n",
       "      <td>0</td>\n",
       "      <td>1</td>\n",
       "      <td>118332</td>\n",
       "      <td>-3.172501</td>\n",
       "      <td>4933</td>\n",
       "      <td>118458</td>\n",
       "      <td>118331</td>\n",
       "      <td>307024</td>\n",
       "      <td>2</td>\n",
       "    </tr>\n",
       "    <tr>\n",
       "      <th>5</th>\n",
       "      <td>4674</td>\n",
       "      <td>1.77</td>\n",
       "      <td>119921</td>\n",
       "      <td>119920</td>\n",
       "      <td>302830</td>\n",
       "      <td>0</td>\n",
       "      <td>2</td>\n",
       "      <td>128231</td>\n",
       "      <td>0.573767</td>\n",
       "      <td>13836</td>\n",
       "      <td>142145</td>\n",
       "      <td>4673</td>\n",
       "      <td>128230</td>\n",
       "      <td>620</td>\n",
       "    </tr>\n",
       "    <tr>\n",
       "      <th>6</th>\n",
       "      <td>31824</td>\n",
       "      <td>3.54</td>\n",
       "      <td>118300</td>\n",
       "      <td>117961</td>\n",
       "      <td>154949</td>\n",
       "      <td>3</td>\n",
       "      <td>1</td>\n",
       "      <td>119851</td>\n",
       "      <td>1.000000</td>\n",
       "      <td>3085</td>\n",
       "      <td>125821</td>\n",
       "      <td>118638</td>\n",
       "      <td>119849</td>\n",
       "      <td>2</td>\n",
       "    </tr>\n",
       "    <tr>\n",
       "      <th>7</th>\n",
       "      <td>25889</td>\n",
       "      <td>3.54</td>\n",
       "      <td>118225</td>\n",
       "      <td>117961</td>\n",
       "      <td>120324</td>\n",
       "      <td>1</td>\n",
       "      <td>1</td>\n",
       "      <td>122850</td>\n",
       "      <td>1.000000</td>\n",
       "      <td>3526</td>\n",
       "      <td>120323</td>\n",
       "      <td>119095</td>\n",
       "      <td>122849</td>\n",
       "      <td>1</td>\n",
       "    </tr>\n",
       "    <tr>\n",
       "      <th>8</th>\n",
       "      <td>80867</td>\n",
       "      <td>1.77</td>\n",
       "      <td>121006</td>\n",
       "      <td>121005</td>\n",
       "      <td>164523</td>\n",
       "      <td>10</td>\n",
       "      <td>6</td>\n",
       "      <td>122131</td>\n",
       "      <td>-1.641212</td>\n",
       "      <td>1383</td>\n",
       "      <td>118575</td>\n",
       "      <td>121916</td>\n",
       "      <td>122129</td>\n",
       "      <td>1</td>\n",
       "    </tr>\n",
       "    <tr>\n",
       "      <th>9</th>\n",
       "      <td>17225</td>\n",
       "      <td>23.01</td>\n",
       "      <td>118386</td>\n",
       "      <td>117961</td>\n",
       "      <td>269406</td>\n",
       "      <td>0</td>\n",
       "      <td>1</td>\n",
       "      <td>118399</td>\n",
       "      <td>1.947557</td>\n",
       "      <td>5249</td>\n",
       "      <td>123144</td>\n",
       "      <td>118398</td>\n",
       "      <td>118396</td>\n",
       "      <td>2</td>\n",
       "    </tr>\n",
       "    <tr>\n",
       "      <th>10</th>\n",
       "      <td>45142</td>\n",
       "      <td>1.77</td>\n",
       "      <td>118052</td>\n",
       "      <td>117961</td>\n",
       "      <td>121809</td>\n",
       "      <td>0</td>\n",
       "      <td>9</td>\n",
       "      <td>118639</td>\n",
       "      <td>-0.369777</td>\n",
       "      <td>15904</td>\n",
       "      <td>118053</td>\n",
       "      <td>118638</td>\n",
       "      <td>118636</td>\n",
       "      <td>9</td>\n",
       "    </tr>\n",
       "  </tbody>\n",
       "</table>\n",
       "</div>"
      ],
      "text/plain": [
       "       f1     f3      f4      f7      f8  f10  f12     f13       f14    f15  \\\n",
       "Id                                                                            \n",
       "1   25884  33.63  118596  118595  125738    3    2  121374 -2.266430   1945   \n",
       "2   34346  10.62  118041  117902  130913    1   23  118943 -0.305612  15385   \n",
       "3   34923   1.77  118327  117961  124402    2    1  118786  2.015561   7547   \n",
       "4   80926  30.09  118300  117961  301218    0    1  118332 -3.172501   4933   \n",
       "5    4674   1.77  119921  119920  302830    0    2  128231  0.573767  13836   \n",
       "6   31824   3.54  118300  117961  154949    3    1  119851  1.000000   3085   \n",
       "7   25889   3.54  118225  117961  120324    1    1  122850  1.000000   3526   \n",
       "8   80867   1.77  121006  121005  164523   10    6  122131 -1.641212   1383   \n",
       "9   17225  23.01  118386  117961  269406    0    1  118399  1.947557   5249   \n",
       "10  45142   1.77  118052  117961  121809    0    9  118639 -0.369777  15904   \n",
       "\n",
       "       f16     f17     f19  f23  \n",
       "Id                               \n",
       "1   118450  119184  121372    2  \n",
       "2   117945  292795  259173    1  \n",
       "3   118933  290919  118784    1  \n",
       "4   118458  118331  307024    2  \n",
       "5   142145    4673  128230  620  \n",
       "6   125821  118638  119849    2  \n",
       "7   120323  119095  122849    1  \n",
       "8   118575  121916  122129    1  \n",
       "9   123144  118398  118396    2  \n",
       "10  118053  118638  118636    9  "
      ]
     },
     "execution_count": 3,
     "metadata": {},
     "output_type": "execute_result"
    }
   ],
   "source": [
    "all_data_drop = all_data.drop(['f2', 'f5', 'f6', 'f9', 'f11', 'f18', 'f20', 'f21', 'f22', 'f24'], axis=1)\n",
    "all_data_drop.head(10)"
   ]
  },
  {
   "cell_type": "code",
   "execution_count": 4,
   "metadata": {},
   "outputs": [],
   "source": [
    "# split back into train/test\n",
    "X_drop = all_data_drop.iloc[:16383]\n",
    "test_drop = all_data_drop.iloc[16383:]"
   ]
  },
  {
   "cell_type": "markdown",
   "metadata": {},
   "source": [
    "### I used RandomizedSearchCV to search for the best hyperparameters using the data with the dropped features"
   ]
  },
  {
   "cell_type": "code",
   "execution_count": 5,
   "metadata": {},
   "outputs": [
    {
     "name": "stdout",
     "output_type": "stream",
     "text": [
      "Fitting 3 folds for each of 100 candidates, totalling 300 fits\n"
     ]
    },
    {
     "name": "stderr",
     "output_type": "stream",
     "text": [
      "[Parallel(n_jobs=-1)]: Using backend LokyBackend with 4 concurrent workers.\n",
      "[Parallel(n_jobs=-1)]: Done   5 tasks      | elapsed:   46.8s\n",
      "[Parallel(n_jobs=-1)]: Done  10 tasks      | elapsed:  1.7min\n",
      "[Parallel(n_jobs=-1)]: Done  17 tasks      | elapsed:  2.9min\n",
      "[Parallel(n_jobs=-1)]: Done  24 tasks      | elapsed:  4.2min\n",
      "[Parallel(n_jobs=-1)]: Done  33 tasks      | elapsed:  5.7min\n",
      "[Parallel(n_jobs=-1)]: Done  42 tasks      | elapsed:  7.0min\n",
      "[Parallel(n_jobs=-1)]: Done  53 tasks      | elapsed:  9.5min\n",
      "[Parallel(n_jobs=-1)]: Done  64 tasks      | elapsed: 10.9min\n",
      "[Parallel(n_jobs=-1)]: Done  77 tasks      | elapsed: 13.0min\n",
      "[Parallel(n_jobs=-1)]: Done  90 tasks      | elapsed: 15.3min\n",
      "[Parallel(n_jobs=-1)]: Done 105 tasks      | elapsed: 18.3min\n",
      "[Parallel(n_jobs=-1)]: Done 120 tasks      | elapsed: 20.6min\n",
      "[Parallel(n_jobs=-1)]: Done 137 tasks      | elapsed: 23.0min\n",
      "[Parallel(n_jobs=-1)]: Done 154 tasks      | elapsed: 25.9min\n",
      "[Parallel(n_jobs=-1)]: Done 173 tasks      | elapsed: 28.8min\n",
      "[Parallel(n_jobs=-1)]: Done 192 tasks      | elapsed: 31.4min\n",
      "[Parallel(n_jobs=-1)]: Done 213 tasks      | elapsed: 34.8min\n",
      "[Parallel(n_jobs=-1)]: Done 234 tasks      | elapsed: 37.9min\n",
      "[Parallel(n_jobs=-1)]: Done 257 tasks      | elapsed: 42.1min\n",
      "[Parallel(n_jobs=-1)]: Done 280 tasks      | elapsed: 45.6min\n",
      "[Parallel(n_jobs=-1)]: Done 300 out of 300 | elapsed: 49.4min finished\n"
     ]
    },
    {
     "data": {
      "text/plain": [
       "RandomizedSearchCV(cv=3, error_score='raise-deprecating',\n",
       "          estimator=XGBClassifier(base_score=0.5, booster='gbtree', colsample_bylevel=1,\n",
       "       colsample_bytree=1, gamma=0, learning_rate=0.1, max_delta_step=0,\n",
       "       max_depth=3, min_child_weight=1, missing=None, n_estimators=100,\n",
       "       n_jobs=1, nthread=None, objective='binary:logistic', random_state=0,\n",
       "       reg_alpha=0, reg_lambda=1, scale_pos_weight=1, seed=None,\n",
       "       silent=True, subsample=1),\n",
       "          fit_params=None, iid='warn', n_iter=100, n_jobs=-1,\n",
       "          param_distributions={'n_estimators': [1500, 2000], 'max_depth': [14], 'gamma': [1, 2, 3, 4, 5, 6, 7, 8, 9, 10], 'scale_pos_weight': [0.1, 0.2, 0.3, 0.4, 0.5, 0.6, 0.7, 0.8, 0.9, 1], 'min_child_weight': [1, 2, 3, 4, 5, 6, 7, 8, 9, 10], 'subsample': [0.4, 0.5, 0.6], 'max_delta_step': [0, 1, 2, 3, 4, 5, 6, 7, 8, 9, 10]},\n",
       "          pre_dispatch='2*n_jobs', random_state=None, refit=True,\n",
       "          return_train_score=True, scoring='roc_auc', verbose=10)"
      ]
     },
     "execution_count": 5,
     "metadata": {},
     "output_type": "execute_result"
    }
   ],
   "source": [
    "max_depth=[14]\n",
    "min_child_weight=[1,2,3,4,5,6,7,8,9,10]\n",
    "gamma=[1,2,3,4,5,6,7,8,9,10]\n",
    "scale_pos_weight=[0.1,0.2,0.3,0.4,0.5,0.6,0.7,0.8,0.9,1]\n",
    "subsample=[0.4,0.5,0.6]\n",
    "n_estimators=[1500,2000]\n",
    "max_delta_step=[0,1,2,3,4,5,6,7,8,9,10]\n",
    "\n",
    "random_grid = {'n_estimators': n_estimators,\n",
    "               'max_depth': max_depth,\n",
    "               'gamma': gamma,\n",
    "               'scale_pos_weight': scale_pos_weight,\n",
    "               'min_child_weight': min_child_weight,\n",
    "               'subsample': subsample,\n",
    "               'max_delta_step': max_delta_step}\n",
    "\n",
    "search = RandomizedSearchCV(XGBClassifier(), param_distributions=random_grid, \n",
    "                            n_iter=100, scoring='roc_auc', \n",
    "                            n_jobs=-1, refit=True, cv=3, verbose=10, \n",
    "                            random_state=None, return_train_score=True)\n",
    "\n",
    "search.fit(X_drop, y)"
   ]
  },
  {
   "cell_type": "code",
   "execution_count": 6,
   "metadata": {},
   "outputs": [
    {
     "name": "stdout",
     "output_type": "stream",
     "text": [
      "{'subsample': 0.6, 'scale_pos_weight': 0.8, 'n_estimators': 1500, 'min_child_weight': 1, 'max_depth': 14, 'max_delta_step': 5, 'gamma': 6}\n",
      "0.8696909867020949\n",
      "XGBClassifier(base_score=0.5, booster='gbtree', colsample_bylevel=1,\n",
      "       colsample_bytree=1, gamma=6, learning_rate=0.1, max_delta_step=5,\n",
      "       max_depth=14, min_child_weight=1, missing=None, n_estimators=1500,\n",
      "       n_jobs=1, nthread=None, objective='binary:logistic', random_state=0,\n",
      "       reg_alpha=0, reg_lambda=1, scale_pos_weight=0.8, seed=None,\n",
      "       silent=True, subsample=0.6)\n"
     ]
    }
   ],
   "source": [
    "print(search.best_params_)\n",
    "print(search.best_score_)\n",
    "print(search.best_estimator_)"
   ]
  },
  {
   "cell_type": "code",
   "execution_count": 7,
   "metadata": {},
   "outputs": [],
   "source": [
    "xgb_model = XGBClassifier(base_score=0.5, booster='dart', colsample_bylevel=1,\n",
    "       colsample_bytree=1, gamma=6, learning_rate=0.1, max_delta_step=5,\n",
    "       max_depth=14, min_child_weight=1, missing=None, n_estimators=1500,\n",
    "       n_jobs=1, nthread=None, objective='binary:logistic', random_state=0,\n",
    "       reg_alpha=0, reg_lambda=1, scale_pos_weight=0.8, seed=None,\n",
    "       silent=True, subsample=0.6)\n"
   ]
  },
  {
   "cell_type": "code",
   "execution_count": 8,
   "metadata": {},
   "outputs": [
    {
     "data": {
      "text/plain": [
       "XGBClassifier(base_score=0.5, booster='dart', colsample_bylevel=1,\n",
       "       colsample_bytree=1, gamma=6, learning_rate=0.1, max_delta_step=5,\n",
       "       max_depth=14, min_child_weight=1, missing=None, n_estimators=1500,\n",
       "       n_jobs=1, nthread=None, objective='binary:logistic', random_state=0,\n",
       "       reg_alpha=0, reg_lambda=1, scale_pos_weight=0.8, seed=None,\n",
       "       silent=True, subsample=0.6)"
      ]
     },
     "execution_count": 8,
     "metadata": {},
     "output_type": "execute_result"
    }
   ],
   "source": [
    "xgb_model.fit(X_drop, y)"
   ]
  },
  {
   "cell_type": "code",
   "execution_count": 9,
   "metadata": {},
   "outputs": [
    {
     "data": {
      "image/png": "[encoded data removed]",
      "text/plain": [
       "<Figure size 432x288 with 1 Axes>"
      ]
     },
     "metadata": {
      "needs_background": "light"
     },
     "output_type": "display_data"
    },
    {
     "data": {
      "text/plain": [
       "0.9966166816334732"
      ]
     },
     "execution_count": 9,
     "metadata": {},
     "output_type": "execute_result"
    }
   ],
   "source": [
    "y_probas = xgb_model.predict_proba(X_drop)\n",
    "# ROC on train set... need to predict on test set\n",
    "fpr, tpr, thresholds = roc_curve(y, y_probas[:, 1])\n",
    "\n",
    "plt.plot([0,1],[0,1],'k--')\n",
    "plt.plot(fpr, tpr, label='NB')\n",
    "plt.xlabel('fpr')\n",
    "plt.ylabel('tpr')\n",
    "plt.title('ROC Curve')\n",
    "plt.show()\n",
    "\n",
    "roc_auc_score(y, y_probas[:, 1])"
   ]
  },
  {
   "cell_type": "code",
   "execution_count": 10,
   "metadata": {},
   "outputs": [
    {
     "data": {
      "text/plain": [
       "array([0.892004 , 0.8387902, 0.9995759, ..., 0.9989661, 0.9237989,\n",
       "       0.9491976], dtype=float32)"
      ]
     },
     "execution_count": 10,
     "metadata": {},
     "output_type": "execute_result"
    }
   ],
   "source": [
    "y_probas = xgb_model.predict_proba(test_drop)\n",
    "y_probas[:,1]"
   ]
  },
  {
   "cell_type": "code",
   "execution_count": 11,
   "metadata": {},
   "outputs": [],
   "source": [
    "submission = pd.DataFrame({'Id':test.index,'Y':y_probas[:,1]}).set_index('Id')"
   ]
  },
  {
   "cell_type": "code",
   "execution_count": 12,
   "metadata": {},
   "outputs": [],
   "source": [
    "submission.to_csv('submission.csv')"
   ]
  },
  {
   "cell_type": "markdown",
   "metadata": {},
   "source": [
    "### This model gave me the highest training AUC, but the test AUC score on Kaggle was only 0.87419, which is still not as good as my best model. I would assume that because the training AUC is almost 1, the model overfitted to the data, which probably increased the avoidable variance. This is why the Kaggle AUC is lower."
   ]
  },
  {
   "cell_type": "markdown",
   "metadata": {},
   "source": [
    "# RandomizedSearchCV"
   ]
  },
  {
   "cell_type": "markdown",
   "metadata": {},
   "source": [
    "### I then realized there there are L1 and L2 parameters that you can set... reg_alpha and reg_lambda, so I decided to search through those values."
   ]
  },
  {
   "cell_type": "code",
   "execution_count": 2,
   "metadata": {},
   "outputs": [],
   "source": [
    "df = pd.read_csv('train_final.csv', index_col='Id')\n",
    "y = df['Y']\n",
    "X = df.drop('Y', axis=1)"
   ]
  },
  {
   "cell_type": "code",
   "execution_count": 10,
   "metadata": {},
   "outputs": [
    {
     "name": "stdout",
     "output_type": "stream",
     "text": [
      "Fitting 3 folds for each of 200 candidates, totalling 600 fits\n"
     ]
    },
    {
     "name": "stderr",
     "output_type": "stream",
     "text": [
      "[Parallel(n_jobs=-1)]: Using backend LokyBackend with 4 concurrent workers.\n",
      "[Parallel(n_jobs=-1)]: Done   5 tasks      | elapsed:   16.0s\n",
      "[Parallel(n_jobs=-1)]: Done  10 tasks      | elapsed:   26.6s\n",
      "[Parallel(n_jobs=-1)]: Done  17 tasks      | elapsed:   47.5s\n",
      "[Parallel(n_jobs=-1)]: Done  24 tasks      | elapsed:  1.1min\n",
      "[Parallel(n_jobs=-1)]: Done  33 tasks      | elapsed:  1.5min\n",
      "[Parallel(n_jobs=-1)]: Done  42 tasks      | elapsed:  1.7min\n",
      "[Parallel(n_jobs=-1)]: Done  53 tasks      | elapsed:  2.0min\n",
      "[Parallel(n_jobs=-1)]: Done  64 tasks      | elapsed:  2.2min\n",
      "[Parallel(n_jobs=-1)]: Done  77 tasks      | elapsed:  2.8min\n",
      "[Parallel(n_jobs=-1)]: Done  90 tasks      | elapsed:  3.6min\n",
      "[Parallel(n_jobs=-1)]: Done 105 tasks      | elapsed:  4.0min\n",
      "[Parallel(n_jobs=-1)]: Done 120 tasks      | elapsed:  4.6min\n",
      "[Parallel(n_jobs=-1)]: Done 137 tasks      | elapsed:  5.1min\n",
      "[Parallel(n_jobs=-1)]: Done 154 tasks      | elapsed:  5.6min\n",
      "[Parallel(n_jobs=-1)]: Done 173 tasks      | elapsed:  6.1min\n",
      "[Parallel(n_jobs=-1)]: Done 192 tasks      | elapsed:  6.8min\n",
      "[Parallel(n_jobs=-1)]: Done 213 tasks      | elapsed:  7.5min\n",
      "[Parallel(n_jobs=-1)]: Done 234 tasks      | elapsed:  7.9min\n",
      "[Parallel(n_jobs=-1)]: Done 257 tasks      | elapsed:  8.9min\n",
      "[Parallel(n_jobs=-1)]: Done 280 tasks      | elapsed:  9.5min\n",
      "[Parallel(n_jobs=-1)]: Done 305 tasks      | elapsed: 10.2min\n",
      "[Parallel(n_jobs=-1)]: Done 330 tasks      | elapsed: 11.1min\n",
      "[Parallel(n_jobs=-1)]: Done 357 tasks      | elapsed: 11.8min\n",
      "[Parallel(n_jobs=-1)]: Done 384 tasks      | elapsed: 12.4min\n",
      "[Parallel(n_jobs=-1)]: Done 413 tasks      | elapsed: 13.3min\n",
      "[Parallel(n_jobs=-1)]: Done 442 tasks      | elapsed: 14.3min\n",
      "[Parallel(n_jobs=-1)]: Done 473 tasks      | elapsed: 15.4min\n",
      "[Parallel(n_jobs=-1)]: Done 504 tasks      | elapsed: 16.3min\n",
      "[Parallel(n_jobs=-1)]: Done 537 tasks      | elapsed: 17.3min\n",
      "[Parallel(n_jobs=-1)]: Done 570 tasks      | elapsed: 18.9min\n",
      "[Parallel(n_jobs=-1)]: Done 600 out of 600 | elapsed: 19.8min finished\n"
     ]
    },
    {
     "data": {
      "text/plain": [
       "RandomizedSearchCV(cv=3, error_score='raise-deprecating',\n",
       "          estimator=XGBClassifier(base_score=0.5, booster='gbtree', colsample_bylevel=1,\n",
       "       colsample_bytree=1, gamma=0, learning_rate=0.1, max_delta_step=0,\n",
       "       max_depth=3, min_child_weight=1, missing=None, n_estimators=100,\n",
       "       n_jobs=1, nthread=None, objective='binary:logistic', random_state=0,\n",
       "       reg_alpha=0, reg_lambda=1, scale_pos_weight=1, seed=None,\n",
       "       silent=True, subsample=1),\n",
       "          fit_params=None, iid='warn', n_iter=200, n_jobs=-1,\n",
       "          param_distributions={'n_estimators': [1500], 'max_depth': [24], 'gamma': [1, 2, 3, 4, 5, 6, 7, 8, 9, 10], 'scale_pos_weight': [0.1, 0.2, 0.3, 0.4, 0.5, 0.6, 0.7, 0.8, 0.9, 1], 'min_child_weight': [1, 2, 3, 4, 5, 6, 7, 8, 9, 10], 'subsample': [0.1, 0.2, 0.3, 0.4, 0.5, 0.6], 'max_delta_step': [0, 1, 2...8, 0.9, 1], 'reg_alpha': [1, 5, 10, 100, 1000], 'reg_lambda': [1, 5, 10, 100, 1000], 'n_jobs': [-1]},\n",
       "          pre_dispatch='2*n_jobs', random_state=None, refit=True,\n",
       "          return_train_score=True, scoring='roc_auc', verbose=10)"
      ]
     },
     "execution_count": 10,
     "metadata": {},
     "output_type": "execute_result"
    }
   ],
   "source": [
    "max_depth=[24]\n",
    "min_child_weight=[1,2,3,4,5,6,7,8,9,10]\n",
    "gamma=[1,2,3,4,5,6,7,8,9,10]\n",
    "scale_pos_weight=[0.1,0.2,0.3,0.4,0.5,0.6,0.7,0.8,0.9,1]\n",
    "subsample=[0.1,0.2,0.3,0.4,0.5,0.6]\n",
    "n_estimators=[1500]\n",
    "max_delta_step=[0,1,2,3,4,5,6,7,8,9,10]\n",
    "learning_rate=[0.01,0.02,0.03,0.04,0.05,0.06,0.07,0.08,0.09,0.1]\n",
    "colsample_bylevel=[0.1,0.2,0.3,0.4,0.5,0.6,0.7,0.8,0.9,1]\n",
    "colsample_bytree=[0.1,0.2,0.3,0.4,0.5,0.6,0.7,0.8,0.9,1]\n",
    "reg_alpha=[1,5,10,100,1000]\n",
    "reg_lambda=[1,5,10,100,1000]\n",
    "n_jobs=[-1]\n",
    "\n",
    "random_grid = {'n_estimators': n_estimators,\n",
    "               'max_depth': max_depth,\n",
    "               'gamma': gamma,\n",
    "               'scale_pos_weight': scale_pos_weight,\n",
    "               'min_child_weight': min_child_weight,\n",
    "               'subsample': subsample,\n",
    "               'max_delta_step': max_delta_step,\n",
    "               'learning_rate': learning_rate,\n",
    "               'colsample_bylevel': colsample_bylevel,\n",
    "               'colsample_bytree': colsample_bytree,\n",
    "               'reg_alpha': reg_alpha,\n",
    "               'reg_lambda': reg_lambda,\n",
    "               'n_jobs': n_jobs}\n",
    "\n",
    "search = RandomizedSearchCV(XGBClassifier(), param_distributions=random_grid, \n",
    "                            n_iter=200, scoring='roc_auc', \n",
    "                            n_jobs=-1, refit=True, cv=3, verbose=10, \n",
    "                            random_state=None, return_train_score=True)\n",
    "\n",
    "search.fit(X, y)"
   ]
  },
  {
   "cell_type": "code",
   "execution_count": 11,
   "metadata": {},
   "outputs": [
    {
     "name": "stdout",
     "output_type": "stream",
     "text": [
      "{'subsample': 0.6, 'scale_pos_weight': 1, 'reg_lambda': 10, 'reg_alpha': 1, 'n_jobs': -1, 'n_estimators': 1500, 'min_child_weight': 2, 'max_depth': 24, 'max_delta_step': 1, 'learning_rate': 0.05, 'gamma': 1, 'colsample_bytree': 0.6, 'colsample_bylevel': 0.2}\n",
      "0.8649308246505355\n",
      "XGBClassifier(base_score=0.5, booster='gbtree', colsample_bylevel=0.2,\n",
      "       colsample_bytree=0.6, gamma=1, learning_rate=0.05, max_delta_step=1,\n",
      "       max_depth=24, min_child_weight=2, missing=None, n_estimators=1500,\n",
      "       n_jobs=-1, nthread=None, objective='binary:logistic',\n",
      "       random_state=0, reg_alpha=1, reg_lambda=10, scale_pos_weight=1,\n",
      "       seed=None, silent=True, subsample=0.6)\n"
     ]
    }
   ],
   "source": [
    "print(search.best_params_)\n",
    "print(search.best_score_)\n",
    "print(search.best_estimator_)"
   ]
  },
  {
   "cell_type": "markdown",
   "metadata": {},
   "source": [
    "### This randomized hyperparameter search found that reg_alpha = 1 and reg_lamda = 10 were the best regularization values, but the Kaggle AUC was 0.84601. This score is a lot less than my best model. I think what happened here is that the regularization strength was too strong, so it also decreased the test accuracy by a lot."
   ]
  },
  {
   "cell_type": "markdown",
   "metadata": {},
   "source": [
    "# Trying again..."
   ]
  },
  {
   "cell_type": "code",
   "execution_count": 4,
   "metadata": {},
   "outputs": [
    {
     "name": "stdout",
     "output_type": "stream",
     "text": [
      "Fitting 3 folds for each of 216 candidates, totalling 648 fits\n"
     ]
    },
    {
     "name": "stderr",
     "output_type": "stream",
     "text": [
      "[Parallel(n_jobs=-1)]: Using backend LokyBackend with 4 concurrent workers.\n",
      "[Parallel(n_jobs=-1)]: Done   5 tasks      | elapsed:   13.1s\n",
      "[Parallel(n_jobs=-1)]: Done  10 tasks      | elapsed:   17.7s\n",
      "[Parallel(n_jobs=-1)]: Done  17 tasks      | elapsed:   39.7s\n",
      "[Parallel(n_jobs=-1)]: Done  24 tasks      | elapsed:   47.9s\n",
      "[Parallel(n_jobs=-1)]: Done  33 tasks      | elapsed:   58.7s\n",
      "[Parallel(n_jobs=-1)]: Done  42 tasks      | elapsed:  1.4min\n",
      "[Parallel(n_jobs=-1)]: Done  53 tasks      | elapsed:  2.2min\n",
      "[Parallel(n_jobs=-1)]: Done  64 tasks      | elapsed:  3.1min\n",
      "[Parallel(n_jobs=-1)]: Done  77 tasks      | elapsed:  3.4min\n",
      "[Parallel(n_jobs=-1)]: Done  90 tasks      | elapsed:  4.1min\n",
      "[Parallel(n_jobs=-1)]: Done 105 tasks      | elapsed:  4.8min\n",
      "[Parallel(n_jobs=-1)]: Done 120 tasks      | elapsed:  5.4min\n",
      "[Parallel(n_jobs=-1)]: Done 137 tasks      | elapsed:  6.0min\n",
      "[Parallel(n_jobs=-1)]: Done 154 tasks      | elapsed:  6.4min\n",
      "[Parallel(n_jobs=-1)]: Done 173 tasks      | elapsed:  7.3min\n",
      "[Parallel(n_jobs=-1)]: Done 192 tasks      | elapsed:  7.8min\n",
      "[Parallel(n_jobs=-1)]: Done 213 tasks      | elapsed:  8.8min\n",
      "[Parallel(n_jobs=-1)]: Done 234 tasks      | elapsed: 10.2min\n",
      "[Parallel(n_jobs=-1)]: Done 257 tasks      | elapsed: 10.9min\n",
      "[Parallel(n_jobs=-1)]: Done 280 tasks      | elapsed: 11.8min\n",
      "[Parallel(n_jobs=-1)]: Done 305 tasks      | elapsed: 13.0min\n",
      "[Parallel(n_jobs=-1)]: Done 330 tasks      | elapsed: 14.5min\n",
      "[Parallel(n_jobs=-1)]: Done 357 tasks      | elapsed: 15.4min\n",
      "[Parallel(n_jobs=-1)]: Done 384 tasks      | elapsed: 16.7min\n",
      "[Parallel(n_jobs=-1)]: Done 413 tasks      | elapsed: 18.0min\n",
      "[Parallel(n_jobs=-1)]: Done 442 tasks      | elapsed: 19.1min\n",
      "[Parallel(n_jobs=-1)]: Done 473 tasks      | elapsed: 20.2min\n",
      "[Parallel(n_jobs=-1)]: Done 504 tasks      | elapsed: 21.6min\n",
      "[Parallel(n_jobs=-1)]: Done 537 tasks      | elapsed: 23.1min\n",
      "[Parallel(n_jobs=-1)]: Done 570 tasks      | elapsed: 24.5min\n",
      "[Parallel(n_jobs=-1)]: Done 605 tasks      | elapsed: 25.8min\n",
      "[Parallel(n_jobs=-1)]: Done 640 tasks      | elapsed: 27.4min\n",
      "[Parallel(n_jobs=-1)]: Done 648 out of 648 | elapsed: 27.6min finished\n"
     ]
    },
    {
     "data": {
      "text/plain": [
       "RandomizedSearchCV(cv=3, error_score='raise-deprecating',\n",
       "          estimator=XGBClassifier(base_score=0.5, booster='gbtree', colsample_bylevel=1,\n",
       "       colsample_bytree=1, gamma=0, learning_rate=0.1, max_delta_step=0,\n",
       "       max_depth=3, min_child_weight=1, missing=None, n_estimators=100,\n",
       "       n_jobs=1, nthread=None, objective='binary:logistic', random_state=0,\n",
       "       reg_alpha=0, reg_lambda=1, scale_pos_weight=1, seed=None,\n",
       "       silent=True, subsample=1),\n",
       "          fit_params=None, iid='warn', n_iter=216, n_jobs=-1,\n",
       "          param_distributions={'n_estimators': [1500], 'max_depth': [24], 'gamma': [8, 9, 10], 'scale_pos_weight': [0.1, 0.2, 0.3, 0.4, 0.5, 0.6, 0.7, 0.8, 0.9, 1], 'min_child_weight': [1, 2], 'subsample': [0.6], 'max_delta_step': [0, 1, 2, 3, 4, 5, 6, 7, 8, 9, 10], 'learning_rate': [0.02, 0.04, 0.06, 0.08, 0...1], 'reg_alpha': [1, 5, 10, 50, 100, 1000], 'reg_lambda': [1, 5, 10, 50, 100, 1000], 'n_jobs': [-1]},\n",
       "          pre_dispatch='2*n_jobs', random_state=None, refit=True,\n",
       "          return_train_score=True, scoring='roc_auc', verbose=10)"
      ]
     },
     "execution_count": 4,
     "metadata": {},
     "output_type": "execute_result"
    }
   ],
   "source": [
    "max_depth=[24]\n",
    "min_child_weight=[1,2]\n",
    "gamma=[8,9,10]\n",
    "scale_pos_weight=[0.1,0.2,0.3,0.4,0.5,0.6,0.7,0.8,0.9,1]\n",
    "subsample=[0.6]\n",
    "n_estimators=[1500]\n",
    "max_delta_step=[0,1,2,3,4,5,6,7,8,9,10]\n",
    "learning_rate=[0.02,0.04,0.06,0.08,0.1]\n",
    "colsample_bylevel=[0.1,0.2,0.3,0.4,0.5,0.6,0.7,0.8,0.9,1]\n",
    "colsample_bytree=[0.1,0.2,0.3,0.4,0.5,0.6,0.7,0.8,0.9,1]\n",
    "reg_alpha=[1,5,10,50,100,1000]\n",
    "reg_lambda=[1,5,10,50,100,1000]\n",
    "n_jobs=[-1]\n",
    "\n",
    "random_grid = {'n_estimators': n_estimators,\n",
    "               'max_depth': max_depth,\n",
    "               'gamma': gamma,\n",
    "               'scale_pos_weight': scale_pos_weight,\n",
    "               'min_child_weight': min_child_weight,\n",
    "               'subsample': subsample,\n",
    "               'max_delta_step': max_delta_step,\n",
    "               'learning_rate': learning_rate,\n",
    "               'colsample_bylevel': colsample_bylevel,\n",
    "               'colsample_bytree': colsample_bytree,\n",
    "               'reg_alpha': reg_alpha,\n",
    "               'reg_lambda': reg_lambda,\n",
    "               'n_jobs': n_jobs}\n",
    "\n",
    "search = RandomizedSearchCV(XGBClassifier(), param_distributions=random_grid, \n",
    "                            n_iter=216, scoring='roc_auc', \n",
    "                            n_jobs=-1, refit=True, cv=3, verbose=10, \n",
    "                            random_state=None, return_train_score=True)\n",
    "\n",
    "search.fit(X, y)"
   ]
  },
  {
   "cell_type": "code",
   "execution_count": 5,
   "metadata": {},
   "outputs": [
    {
     "name": "stdout",
     "output_type": "stream",
     "text": [
      "{'subsample': 0.6, 'scale_pos_weight': 0.8, 'reg_lambda': 1, 'reg_alpha': 1, 'n_jobs': -1, 'n_estimators': 1500, 'min_child_weight': 2, 'max_depth': 24, 'max_delta_step': 4, 'learning_rate': 0.1, 'gamma': 8, 'colsample_bytree': 1, 'colsample_bylevel': 0.8}\n",
      "0.8604413977767117\n",
      "XGBClassifier(base_score=0.5, booster='gbtree', colsample_bylevel=0.8,\n",
      "       colsample_bytree=1, gamma=8, learning_rate=0.1, max_delta_step=4,\n",
      "       max_depth=24, min_child_weight=2, missing=None, n_estimators=1500,\n",
      "       n_jobs=-1, nthread=None, objective='binary:logistic',\n",
      "       random_state=0, reg_alpha=1, reg_lambda=1, scale_pos_weight=0.8,\n",
      "       seed=None, silent=True, subsample=0.6)\n"
     ]
    }
   ],
   "source": [
    "print(search.best_params_)\n",
    "print(search.best_score_)\n",
    "print(search.best_estimator_)"
   ]
  },
  {
   "cell_type": "markdown",
   "metadata": {},
   "source": [
    "# Again"
   ]
  },
  {
   "cell_type": "code",
   "execution_count": 3,
   "metadata": {},
   "outputs": [
    {
     "name": "stdout",
     "output_type": "stream",
     "text": [
      "Fitting 3 folds for each of 60 candidates, totalling 180 fits\n"
     ]
    },
    {
     "name": "stderr",
     "output_type": "stream",
     "text": [
      "[Parallel(n_jobs=-1)]: Using backend LokyBackend with 4 concurrent workers.\n",
      "[Parallel(n_jobs=-1)]: Done   5 tasks      | elapsed:   51.2s\n",
      "[Parallel(n_jobs=-1)]: Done  10 tasks      | elapsed:  1.4min\n",
      "[Parallel(n_jobs=-1)]: Done  17 tasks      | elapsed:  1.7min\n",
      "[Parallel(n_jobs=-1)]: Done  24 tasks      | elapsed:  2.3min\n",
      "[Parallel(n_jobs=-1)]: Done  33 tasks      | elapsed:  2.9min\n",
      "[Parallel(n_jobs=-1)]: Done  42 tasks      | elapsed:  3.8min\n",
      "[Parallel(n_jobs=-1)]: Done  53 tasks      | elapsed:  4.9min\n",
      "[Parallel(n_jobs=-1)]: Done  64 tasks      | elapsed:  5.6min\n",
      "[Parallel(n_jobs=-1)]: Done  77 tasks      | elapsed:  6.3min\n",
      "[Parallel(n_jobs=-1)]: Done  90 tasks      | elapsed:  7.2min\n",
      "[Parallel(n_jobs=-1)]: Done 105 tasks      | elapsed:  7.9min\n",
      "[Parallel(n_jobs=-1)]: Done 120 tasks      | elapsed:  9.4min\n",
      "[Parallel(n_jobs=-1)]: Done 137 tasks      | elapsed: 10.6min\n",
      "[Parallel(n_jobs=-1)]: Done 154 tasks      | elapsed: 11.8min\n",
      "[Parallel(n_jobs=-1)]: Done 173 tasks      | elapsed: 13.8min\n",
      "[Parallel(n_jobs=-1)]: Done 180 out of 180 | elapsed: 14.2min finished\n"
     ]
    },
    {
     "data": {
      "text/plain": [
       "RandomizedSearchCV(cv=3, error_score='raise-deprecating',\n",
       "          estimator=XGBClassifier(base_score=0.5, booster='gbtree', colsample_bylevel=1,\n",
       "       colsample_bytree=1, gamma=0, learning_rate=0.1, max_delta_step=0,\n",
       "       max_depth=3, min_child_weight=1, missing=None, n_estimators=100,\n",
       "       n_jobs=1, nthread=None, objective='binary:logistic', random_state=0,\n",
       "       reg_alpha=0, reg_lambda=1, scale_pos_weight=1, seed=None,\n",
       "       silent=True, subsample=1),\n",
       "          fit_params=None, iid='warn', n_iter=60, n_jobs=-1,\n",
       "          param_distributions={'n_estimators': [1500], 'max_depth': [24], 'gamma': [9], 'scale_pos_weight': [0.8], 'min_child_weight': [1, 2], 'subsample': [0.6], 'max_delta_step': [0, 1, 2, 3, 4, 5, 6, 7, 8, 9, 10], 'learning_rate': [0.02, 0.04, 0.06, 0.08, 0.1], 'colsample_bylevel': [0.1, 0.2, 0.3, 0.4, 0.5, 0.6, 0.7, 0.8, 0.9, 1], 'colsample_bytree': [0.1, 0.2, 0.3, 0.4, 0.5, 0.6, 0.7, 0.8, 0.9, 1], 'reg_alpha': [0, 1, 2, 3, 4, 5], 'reg_lambda': [1, 2, 3, 4, 5], 'n_jobs': [-1]},\n",
       "          pre_dispatch='2*n_jobs', random_state=None, refit=True,\n",
       "          return_train_score=True, scoring='roc_auc', verbose=10)"
      ]
     },
     "execution_count": 3,
     "metadata": {},
     "output_type": "execute_result"
    }
   ],
   "source": [
    "max_depth=[24]\n",
    "min_child_weight=[1,2]\n",
    "gamma=[9]\n",
    "scale_pos_weight=[0.8]\n",
    "subsample=[0.6]\n",
    "n_estimators=[1500]\n",
    "max_delta_step=[0,1,2,3,4,5,6,7,8,9,10]\n",
    "learning_rate=[0.02,0.04,0.06,0.08,0.1]\n",
    "colsample_bylevel=[0.1,0.2,0.3,0.4,0.5,0.6,0.7,0.8,0.9,1]\n",
    "colsample_bytree=[0.1,0.2,0.3,0.4,0.5,0.6,0.7,0.8,0.9,1]\n",
    "reg_alpha=[0,1,2,3,4,5]\n",
    "reg_lambda=[1,2,3,4,5]\n",
    "n_jobs=[-1]\n",
    "\n",
    "random_grid = {'n_estimators': n_estimators,\n",
    "               'max_depth': max_depth,\n",
    "               'gamma': gamma,\n",
    "               'scale_pos_weight': scale_pos_weight,\n",
    "               'min_child_weight': min_child_weight,\n",
    "               'subsample': subsample,\n",
    "               'max_delta_step': max_delta_step,\n",
    "               'learning_rate': learning_rate,\n",
    "               'colsample_bylevel': colsample_bylevel,\n",
    "               'colsample_bytree': colsample_bytree,\n",
    "               'reg_alpha': reg_alpha,\n",
    "               'reg_lambda': reg_lambda,\n",
    "               'n_jobs': n_jobs}\n",
    "\n",
    "search = RandomizedSearchCV(XGBClassifier(), param_distributions=random_grid, \n",
    "                            n_iter=60, scoring='roc_auc', \n",
    "                            n_jobs=-1, refit=True, cv=3, verbose=10, \n",
    "                            random_state=None, return_train_score=True)\n",
    "\n",
    "search.fit(X, y)"
   ]
  },
  {
   "cell_type": "code",
   "execution_count": 4,
   "metadata": {},
   "outputs": [
    {
     "name": "stdout",
     "output_type": "stream",
     "text": [
      "{'subsample': 0.6, 'scale_pos_weight': 0.8, 'reg_lambda': 1, 'reg_alpha': 0, 'n_jobs': -1, 'n_estimators': 1500, 'min_child_weight': 1, 'max_depth': 24, 'max_delta_step': 10, 'learning_rate': 0.02, 'gamma': 9, 'colsample_bytree': 0.3, 'colsample_bylevel': 0.6}\n",
      "0.8651764442968265\n",
      "XGBClassifier(base_score=0.5, booster='gbtree', colsample_bylevel=0.6,\n",
      "       colsample_bytree=0.3, gamma=9, learning_rate=0.02,\n",
      "       max_delta_step=10, max_depth=24, min_child_weight=1, missing=None,\n",
      "       n_estimators=1500, n_jobs=-1, nthread=None,\n",
      "       objective='binary:logistic', random_state=0, reg_alpha=0,\n",
      "       reg_lambda=1, scale_pos_weight=0.8, seed=None, silent=True,\n",
      "       subsample=0.6)\n"
     ]
    }
   ],
   "source": [
    "print(search.best_params_)\n",
    "print(search.best_score_)\n",
    "print(search.best_estimator_)"
   ]
  },
  {
   "cell_type": "markdown",
   "metadata": {},
   "source": [
    "# In the end, I ran RandomizedSearchCV again, and it found that that reg_lambda = 1 and reg_alpha = 0 were the best parameters to use (these are the default values of XGBClassifier, so I guess regularizing this model wasn't necessary. It also makes sense too because my best model was a model without adding any regularization."
   ]
  },
  {
   "cell_type": "code",
   "execution_count": null,
   "metadata": {},
   "outputs": [],
   "source": []
  }
 ],
 "metadata": {
  "kernelspec": {
   "display_name": "Python 3",
   "language": "python",
   "name": "python3"
  },
  "language_info": {
   "codemirror_mode": {
    "name": "ipython",
    "version": 3
   },
   "file_extension": ".py",
   "mimetype": "text/x-python",
   "name": "python",
   "nbconvert_exporter": "python",
   "pygments_lexer": "ipython3",
   "version": "3.7.4"
  }
 },
 "nbformat": 4,
 "nbformat_minor": 2
}
